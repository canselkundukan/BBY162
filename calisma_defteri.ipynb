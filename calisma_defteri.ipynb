{
  "nbformat": 4,
  "nbformat_minor": 0,
  "metadata": {
    "colab": {
      "name": "calisma_defteri.ipynb",
      "provenance": [],
      "collapsed_sections": [
        "AE4EYdj6VPvq",
        "9JeaGlvQYylS",
        "2irKEi_raxaB",
        "_6eRj3kmeyGw",
        "i3Qht_zmjLf2",
        "OUWeht_8nyCx",
        "C0G673j0pQD4",
        "NU2bhXlwuUtj",
        "qhLUJ8wJM79g",
        "op2D6v9xQsRe",
        "xPgrx41FRbrw",
        "aIfLylzcShEG",
        "mKLQLw8_TJyz",
        "cft6m1VaVqVH",
        "nTiryVt-EuJP",
        "D_Vt3_mQJq9Q",
        "qiE0PiXLPQmM",
        "J_f83oCDS-Hz",
        "HkDm5do0Vduc",
        "9qqctZNZX6q4",
        "iFlaNCzFpdIj",
        "o68yxOoTx1vA",
        "0R6l7TiLyI1H",
        "mLq4XzRPHdHl",
        "yWfAoCUc-D9d",
        "Uocer9uZoa_6",
        "UbKP1Z_c0d9k",
        "8s0bn98LFdh4"
      ],
      "include_colab_link": true
    },
    "kernelspec": {
      "name": "python3",
      "display_name": "Python 3"
    }
  },
  "cells": [
    {
      "cell_type": "markdown",
      "metadata": {
        "id": "view-in-github",
        "colab_type": "text"
      },
      "source": [
        "<a href=\"https://colab.research.google.com/github/canselkundukan/bby162-2020/blob/master/calisma_defteri.ipynb\" target=\"_parent\"><img src=\"https://colab.research.google.com/assets/colab-badge.svg\" alt=\"Open In Colab\"/></a>"
      ]
    },
    {
      "cell_type": "markdown",
      "metadata": {
        "id": "AE4EYdj6VPvq",
        "colab_type": "text"
      },
      "source": [
        "# Bölüm 01: Giriş"
      ]
    },
    {
      "cell_type": "markdown",
      "metadata": {
        "id": "4nLn-agoUdfh",
        "colab_type": "text"
      },
      "source": [
        "## İlk Bilgisayar Programımız\n",
        "Geleneksel olarak herhangi bir programlama dilinde yazdığınız ilk program \"Merhaba Dünya!\"'dır."
      ]
    },
    {
      "cell_type": "markdown",
      "metadata": {
        "id": "xhY6ovVFSBp1",
        "colab_type": "text"
      },
      "source": [
        "**Örnek Uygulama:**\n",
        "```\n",
        "print(\"Merhaba Dünya!\")\n",
        "```"
      ]
    },
    {
      "cell_type": "markdown",
      "metadata": {
        "id": "MuYQpCfoh7In",
        "colab_type": "text"
      },
      "source": [
        "**Görev:** Kendinizi dünyaya tanıtacak ilk bilgisayar programınızı yazın!"
      ]
    },
    {
      "cell_type": "code",
      "metadata": {
        "id": "CBHkVbIlUXgW",
        "colab_type": "code",
        "cellView": "both",
        "outputId": "18cfea48-1a50-451b-e565-f485f2e0ccd6",
        "colab": {
          "base_uri": "https://localhost:8080/",
          "height": 34
        }
      },
      "source": [
        "print(\" Merhaba Dünya Beste.\")"
      ],
      "execution_count": 0,
      "outputs": [
        {
          "output_type": "stream",
          "text": [
            " merhaba dünya ben cansel.\n"
          ],
          "name": "stdout"
        }
      ]
    },
    {
      "cell_type": "markdown",
      "metadata": {
        "id": "0S8fTkAqVb4v",
        "colab_type": "text"
      },
      "source": [
        "## Yorumlar\n",
        "Python'daki yorumlar # \"hash\" karakteriyle başlar ve fiziksel çizginin sonuna kadar uzanır. Yorum yapmak için kullandığımız # \"hash\" karakteri kod satırlarını geçici olarak devre dışı bırakmak amacıyla da kullanılabilir. "
      ]
    },
    {
      "cell_type": "markdown",
      "metadata": {
        "colab_type": "text",
        "id": "ql-GYfPYWpUW"
      },
      "source": [
        "**Örnek Uygulama:**\n",
        "```\n",
        "# Bu ilk bilgisayar programım için ilk yorumum\n",
        "print(\"# bu bir yorum değildir\")\n",
        "print(\"Merhaba!\")  # yorumlar kod satırının devamında da yapılabilir.\n",
        "#print(\"Bu kod geçici olarak devre dışı bırakılmıştır.\")\n",
        "```\n"
      ]
    },
    {
      "cell_type": "markdown",
      "metadata": {
        "id": "4ufK03hEiP76",
        "colab_type": "text"
      },
      "source": [
        "**Görev:** Bilgisayar kodunuza yeni yorum ekleyin, kodları geçici olarak devre dışı bırakın!"
      ]
    },
    {
      "cell_type": "code",
      "metadata": {
        "id": "QzUppEjoXLPM",
        "colab_type": "code",
        "colab": {
          "base_uri": "https://localhost:8080/",
          "height": 34
        },
        "outputId": "9790d3f6-d3a2-46f8-8935-43be9d656bf0"
      },
      "source": [
        "print(\"Merhaba!\")\n",
        "#merhaba kelimesini programı çalıştırdığımızda yazılacaktır. \n",
        "#print(\"merhaba\") \n",
        "#bu kod satırı # sayesinde devre dışı bırakılmıştır. "
      ],
      "execution_count": 12,
      "outputs": [
        {
          "output_type": "stream",
          "text": [
            "Merhaba!\n"
          ],
          "name": "stdout"
        }
      ]
    },
    {
      "cell_type": "code",
      "metadata": {
        "id": "PFI55-TdRyoh",
        "colab_type": "code",
        "colab": {}
      },
      "source": [
        ""
      ],
      "execution_count": 0,
      "outputs": []
    },
    {
      "cell_type": "markdown",
      "metadata": {
        "id": "9JeaGlvQYylS",
        "colab_type": "text"
      },
      "source": [
        "# Bölüm 02: Değişkenler"
      ]
    },
    {
      "cell_type": "markdown",
      "metadata": {
        "id": "VzeGixS6Y919",
        "colab_type": "text"
      },
      "source": [
        "## Değişken Nedir?\n",
        "Değişkenler değerleri depolamak için kullanılır, böylece daha sonra bu değişkenleri program içinde çağırarak kullanabilir. Değişkenler etiketlere benzer ve atama operatörü olarak adlandırılan eşittir ( = ) operatörü ile bir değişkene bir değer atanabilir. Bir değer ataması zincirleme şeklinde gerçekleştirilebilir. Örneğin: a = b = 2"
      ]
    },
    {
      "cell_type": "markdown",
      "metadata": {
        "id": "7tWAdnNlZtQr",
        "colab_type": "text"
      },
      "source": [
        "**Örnek Uygulama:**\n",
        "```\n",
        "a = b = 2 # Bu bir \"zincirleme atamadır\". Değer olarak atanan 2 hem  \"a\" değişkenine, hem de \"b\" değişkenine atanmaktadır.\n",
        "print(\"a = \" + str(a))\n",
        "print(\"b = \" + str(b))\n",
        "# str(a) ve  str(b) ifadesi eğitimin ilerleyen bölümlerinde anlatılacaktır.\n",
        "# Şu an için \"a\" ve \"b\" değişkenini metin formatına çevirmek için kullanılmakta olduğunu bilmeniz yeterlidir.\n",
        "\n",
        "adSoyad = \"Orçun Madran\"\n",
        "print(\"Adı Soyadı: \" + adSoyad)\n",
        "```"
      ]
    },
    {
      "cell_type": "markdown",
      "metadata": {
        "id": "szRkWMg9idf9",
        "colab_type": "text"
      },
      "source": [
        "**Görev:** \"eposta\" adlı bir değişken oluşturun. Oluşturduğunuz bu değişkene bir e-posta adresi atayın. Daha sonra atadığınız bu değeri, yazdırın. Örneğin: \"E-posta: orcun[at]madran.net\""
      ]
    },
    {
      "cell_type": "code",
      "metadata": {
        "id": "RmIa5BJsZ2EI",
        "colab_type": "code",
        "outputId": "cc05fa8f-5744-4b57-ca08-04f2755fc54b",
        "colab": {
          "base_uri": "https://localhost:8080/",
          "height": 34
        }
      },
      "source": [
        "eposta = \"canselkundukan(at)gmail.com\"\n",
        "print(\"mail adresi:\" + eposta)"
      ],
      "execution_count": 0,
      "outputs": [
        {
          "output_type": "stream",
          "text": [
            "mail adresi:canselkundukan(at)gmail.com\n"
          ],
          "name": "stdout"
        }
      ]
    },
    {
      "cell_type": "markdown",
      "metadata": {
        "colab_type": "text",
        "id": "2irKEi_raxaB"
      },
      "source": [
        "## Değişken Tanımlama\n",
        "Değişken adları yalnızca harf, rakam ve / veya alt çizgi karakteri içerebilir ve bir rakamla başlayamaz. Python'ın 3. sürümünden itibaren değişken adlarında latin dışı karakterler (Ör: İ, ı, ç, ö, ş, ğ vb.) kullanılabilir. Ancak bu programlama dilleri genelinde tavsiye edilmez."
      ]
    },
    {
      "cell_type": "markdown",
      "metadata": {
        "id": "pOxCruNHdp9M",
        "colab_type": "text"
      },
      "source": [
        "**Örnek Uygulama:**\n",
        "```\n",
        "degisken = 1\n",
        "```"
      ]
    },
    {
      "cell_type": "markdown",
      "metadata": {
        "id": "SVwQ0Tf-isfz",
        "colab_type": "text"
      },
      "source": [
        "**Görev:** Henüz tanımlanmamış bir değişken kullanırsanız ne olacağını kontrol edin!"
      ]
    },
    {
      "cell_type": "code",
      "metadata": {
        "id": "1W14OfkxeGuN",
        "colab_type": "code",
        "outputId": "cf92464a-3de0-44ea-8761-909138db4f1d",
        "colab": {
          "base_uri": "https://localhost:8080/",
          "height": 34
        }
      },
      "source": [
        "kitap1 = \"deneme\"\n",
        "print(kitaplar)"
      ],
      "execution_count": 0,
      "outputs": [
        {
          "output_type": "stream",
          "text": [
            "deneme\n"
          ],
          "name": "stdout"
        }
      ]
    },
    {
      "cell_type": "markdown",
      "metadata": {
        "id": "GwLgmn1fi04Q",
        "colab_type": "text"
      },
      "source": [
        "**Görev:** Tanımladığınız değişkeni ekrana yazdırın!"
      ]
    },
    {
      "cell_type": "code",
      "metadata": {
        "id": "JrNUlQAyeqHQ",
        "colab_type": "code",
        "outputId": "e34dd860-a290-4e22-ccba-0bcd359d8025",
        "colab": {
          "base_uri": "https://localhost:8080/",
          "height": 34
        }
      },
      "source": [
        "kitap1 =\"deneme\"\n",
        "print(kitap1)"
      ],
      "execution_count": 0,
      "outputs": [
        {
          "output_type": "stream",
          "text": [
            "deneme\n"
          ],
          "name": "stdout"
        }
      ]
    },
    {
      "cell_type": "markdown",
      "metadata": {
        "id": "_6eRj3kmeyGw",
        "colab_type": "text"
      },
      "source": [
        "## Değişken Türleri\n",
        "Python'da iki ana sayı türü vardır; tam sayılar ve ondalık sayılar.\n",
        "\n",
        "---\n",
        "\n",
        "\n",
        "**Dikkat:** Ondalık sayıların yazımında Türkçe'de *virgül* (,) kullanılmasına rağmen, programlama dillerinin evrensel yazım kuralları içerisinde ondalık sayılar *nokta* (.) ile ifade edilir."
      ]
    },
    {
      "cell_type": "markdown",
      "metadata": {
        "id": "37MxozrGf1-F",
        "colab_type": "text"
      },
      "source": [
        "**Örnek Uygulama:**\n",
        "```\n",
        "tamSayi = 5\n",
        "print(type(tamSayi))   # tamSayi değişkeninin türünü yazdırır\n",
        "\n",
        "ondalikSayi = 7.4\n",
        "print(type(ondalikSayi) # ondalikSayi değişkeninin türünü yazdırır\n",
        "```"
      ]
    },
    {
      "cell_type": "markdown",
      "metadata": {
        "id": "asiOZVmbn_TO",
        "colab_type": "text"
      },
      "source": [
        "**Görev:** \"sayi\" değişkeninin türünü belirleyerek ekrana yazdırın!"
      ]
    },
    {
      "cell_type": "code",
      "metadata": {
        "id": "UrGfF38CgjdQ",
        "colab_type": "code",
        "cellView": "both",
        "outputId": "09cabb07-6e6e-41e7-f7ee-15bf1664fed6",
        "colab": {
          "base_uri": "https://localhost:8080/",
          "height": 34
        }
      },
      "source": [
        "sayi = 9.0\n",
        "print(type(sayi))"
      ],
      "execution_count": 0,
      "outputs": [
        {
          "output_type": "stream",
          "text": [
            "<class 'float'>\n"
          ],
          "name": "stdout"
        }
      ]
    },
    {
      "cell_type": "markdown",
      "metadata": {
        "id": "i3Qht_zmjLf2",
        "colab_type": "text"
      },
      "source": [
        "## Değişken Türü Dönüştürme\n",
        "Bir veri türünü diğerine dönüştürmenize izin veren birkaç yerleşik fonksiyon (built-in function) vardır. Bu fonksiyonlar (\"int()\", \"str()\", \"float()\") uygulandıkları değişkeni dönüştürerek yeni bir nesne döndürürler. "
      ]
    },
    {
      "cell_type": "markdown",
      "metadata": {
        "id": "F-Zp8zfmkzJX",
        "colab_type": "text"
      },
      "source": [
        "**Örnek Uygulama**\n",
        "```\n",
        "sayi = 6.5\n",
        "print(type(sayi)) # \"sayi\" değişkeninin türünü ondalık olarak yazdırır\n",
        "print(sayi)\n",
        "\n",
        "sayi = int(sayi)  # Ondalık sayı olan \"sayi\" değişkenini tam sayıya dönüştürür\n",
        "print(type(sayi))\n",
        "print(sayi)\n",
        "\n",
        "sayi = float(sayi) # Tam sayı olan \"sayi\" değişkenini ondalık sayıya dönüştürür\n",
        "print(type(sayi))\n",
        "print(sayi)\n",
        "\n",
        "sayi = str(sayi) # \"sayi\" değişkeni artık düz metin halini almıştır\n",
        "print(type(sayi))\n",
        "print(sayi)\n",
        "```"
      ]
    },
    {
      "cell_type": "markdown",
      "metadata": {
        "id": "7j51gKaIlM-u",
        "colab_type": "text"
      },
      "source": [
        "**Görev:** Ondalık sayıyı tam sayıya dönüştürün ve ekrana değişken türünü ve değeri yazdırın!"
      ]
    },
    {
      "cell_type": "code",
      "metadata": {
        "id": "o9ZQ6Jr3lL6A",
        "colab_type": "code",
        "outputId": "34c4f169-1579-4039-b948-d6afa0075f32",
        "colab": {
          "base_uri": "https://localhost:8080/",
          "height": 52
        }
      },
      "source": [
        "sayi = int(3.14)\n",
        "print(type(sayi))\n",
        "print(sayi)\n"
      ],
      "execution_count": 0,
      "outputs": [
        {
          "output_type": "stream",
          "text": [
            "<class 'int'>\n",
            "3\n"
          ],
          "name": "stdout"
        }
      ]
    },
    {
      "cell_type": "markdown",
      "metadata": {
        "id": "f5MK6vZOl6dG",
        "colab_type": "text"
      },
      "source": [
        "## Aritmetik Operatörler\n",
        "Diğer tüm programlama dillerinde olduğu gibi, toplama (+), çıkarma (-), çarpma (yıldız) ve bölme (/) operatörleri sayılarla kullanılabilir. Ek olarak Python'un üs (çift yıldız) ve mod (%) operatörleri vardır.\n",
        "\n",
        "---\n",
        "**Not:** Matematik işlemlerinde geçerli olan aritmetik operatörlerin öncelik sıralamaları (çarpma, bölme, toplama, çıkarma) ve parantezlerin önceliği kuralları Python içindeki matematiksel işlemler için de geçerlidir. \n"
      ]
    },
    {
      "cell_type": "markdown",
      "metadata": {
        "id": "1THb0XpGmwSD",
        "colab_type": "text"
      },
      "source": [
        "**Örnek Uygulama:**\n",
        "```\n",
        "# Toplama işlemi\n",
        "sayi = 7.0\n",
        "sonuc = sayi + 3.5\n",
        "print(sonuc)\n",
        "\n",
        "# Çıkarma işlemi\n",
        "sayi = 200\n",
        "sonuc = sayi - 35\n",
        "print(sonuc)\n",
        "\n",
        "# Çarpma işlemi\n",
        "sayi = 44\n",
        "sonuc = sayi * 10\n",
        "print(sonuc)\n",
        "\n",
        "# Bölme işlemi\n",
        "sayi = 30\n",
        "sonuc = sayi / 3\n",
        "print(sonuc)\n",
        "\n",
        "# Üs alma işlemi\n",
        "sayi = 30\n",
        "sonuc = sayi ** 3\n",
        "print(sonuc)\n",
        "\n",
        "# Mod alma işlemi \n",
        "sayi = 35\n",
        "sonuc = sayi % 4\n",
        "print(sonuc)\n",
        "```"
      ]
    },
    {
      "cell_type": "markdown",
      "metadata": {
        "id": "jp3PvDghnJkY",
        "colab_type": "text"
      },
      "source": [
        "**Görev:** Aşağıda değer atamaları tamamlanmış olan değişkenleri kullanarak ürünlerin peşin satın alınma bedelini TL olarak hesaplayınız ve ürün adı ile birlikte ekrana yazdırınız! İpucu: Ürün adını ve ürün bedelini tek bir satırda yazdırmak isterseniz ürün bedelini str() fonksiyonu ile düz metin değişken türüne çevirmeniz gerekir. "
      ]
    },
    {
      "cell_type": "code",
      "metadata": {
        "id": "oMY_MZjmndQj",
        "colab_type": "code",
        "outputId": "8bf654e8-09aa-4806-e3a0-942c566c2cbc",
        "colab": {
          "base_uri": "https://localhost:8080/",
          "height": 34
        }
      },
      "source": [
        "urunAdi = \"Bisiklet\"\n",
        "urunBedeliAvro = 850\n",
        "pariteAvroTL = 7\n",
        "urunAdet = 3\n",
        "pesinAdetIndirimTL = 500\n",
        "\n",
        "sonuc = urunAdet * pesinAdetIndirimTL\n",
        "print (urunAdi + \"=\" + str(sonuc))\n"
      ],
      "execution_count": 26,
      "outputs": [
        {
          "output_type": "stream",
          "text": [
            "Bisiklet= 1500\n"
          ],
          "name": "stdout"
        }
      ]
    },
    {
      "cell_type": "markdown",
      "metadata": {
        "id": "OUWeht_8nyCx",
        "colab_type": "text"
      },
      "source": [
        "## Artırılmış Atama Operatörleri\n",
        "Artırılmış atama, bir değişkenin mevcut değerine belirlenen değerin eklenerek (+=) ya da çıkartılarak (-=) atanması işlemidir. \n"
      ]
    },
    {
      "cell_type": "markdown",
      "metadata": {
        "id": "r-6ImrKCobv_",
        "colab_type": "text"
      },
      "source": [
        "**Örnek Uygulama**\n",
        "\n",
        "```\n",
        "sayi = 8\n",
        "sayi += 4  # Mevcut değer olan 8'e 4 daha ekler.\n",
        "print(sayi) \n",
        "\n",
        "sayi -= 6 # Mevcut değer olan 12'den 6 eksiltir.\n",
        "print(\"sayi = \" + str(sayi))\n",
        "```\n",
        "\n"
      ]
    },
    {
      "cell_type": "markdown",
      "metadata": {
        "id": "Du5w88EaovzQ",
        "colab_type": "text"
      },
      "source": [
        "**Görev:** \"sayi\" değişkenine 20 ekleyip, 10 çıkartarak değişkenin güncel değerini ekrana yazdırın! "
      ]
    },
    {
      "cell_type": "code",
      "metadata": {
        "id": "ro0-FwgDpCkx",
        "colab_type": "code",
        "outputId": "85583f05-ae1a-4096-b542-3d5fa26b7d9f",
        "colab": {
          "base_uri": "https://localhost:8080/",
          "height": 34
        }
      },
      "source": [
        "sayi = 55\n",
        "sayi += 20\n",
        "\n",
        "sayi -= 10\n",
        "print(\"sayi = \" + str(sayi))"
      ],
      "execution_count": 0,
      "outputs": [
        {
          "output_type": "stream",
          "text": [
            "sayi = 65\n"
          ],
          "name": "stdout"
        }
      ]
    },
    {
      "cell_type": "markdown",
      "metadata": {
        "id": "C0G673j0pQD4",
        "colab_type": "text"
      },
      "source": [
        "## Boolean Operatörleri\n",
        "Boolean, yalnızca **Doğru (True)** veya **Yanlış (False)** olabilen bir değer türüdür. Eşitlik (==) operatörleri karşılaştırılan iki değişkenin eşit olup olmadığını kontrol eder ve *True* ya da *False* değeri döndürür."
      ]
    },
    {
      "cell_type": "markdown",
      "metadata": {
        "id": "Trd3P6X4pwbu",
        "colab_type": "text"
      },
      "source": [
        "**Örnek Uygulama:**\n",
        "```\n",
        "deger1 = 10\n",
        "deger2 = 10\n",
        "esitMi = (deger1 == deger2) # Eşit olup olmadıkları kontrol ediliyor\n",
        "print(esitMi) # Değişken \"True\" olarak dönüyor\n",
        "\n",
        "deger1 = \"Python\"\n",
        "deger2 = \"Piton\"\n",
        "esitMi = (deger1 == deger2) # Eşit olup olmadıkları kontrol ediliyor\n",
        "print(esitMi) # Değişken \"False\" olarak dönüyor\n",
        "```"
      ]
    },
    {
      "cell_type": "markdown",
      "metadata": {
        "id": "QSvUSLN4p7Ra",
        "colab_type": "text"
      },
      "source": [
        "**Görev:** Atamaları yapılmış olan değişkenler arasındaki eşitliği kontrol edin ve sonucu ekrana yazıdırın!"
      ]
    },
    {
      "cell_type": "code",
      "metadata": {
        "id": "ihVP2eQpttpv",
        "colab_type": "code",
        "outputId": "84a3c34b-05d8-4000-d241-0b6874c15501",
        "colab": {
          "base_uri": "https://localhost:8080/",
          "height": 34
        }
      },
      "source": [
        "sifre = \"Python2020\"\n",
        "sifreTekrar = \"Piton2020\"\n",
        "esitmi = (sifre == sifreTekrar)\n",
        "print(esitmi) #değişken türü \"false\" olarak dönüyor. \n"
      ],
      "execution_count": 0,
      "outputs": [
        {
          "output_type": "stream",
          "text": [
            "False\n"
          ],
          "name": "stdout"
        }
      ]
    },
    {
      "cell_type": "markdown",
      "metadata": {
        "id": "NU2bhXlwuUtj",
        "colab_type": "text"
      },
      "source": [
        "## Karşılaştırma Operatörleri\n",
        "Python'da, >=, <= , >, < vb. dahil olmak üzere birçok operatör bulunmaktadır. Python'daki tüm karşılaştırma operatörleri aynı önceliğe sahiptir. Karşılaştırma sonucunda boole değerleri (*True* ya da *False*) döner. Karşılaştırma operatörleri isteğe bağlı olarak arka arkaya da (zincirlenerek) kullanılabilir."
      ]
    },
    {
      "cell_type": "markdown",
      "metadata": {
        "id": "kUkH4Qe6vBIm",
        "colab_type": "text"
      },
      "source": [
        "**Örnek Uygulama:**\n",
        "```\n",
        "deger1 = 5\n",
        "deger2 = 7\n",
        "deger3 = 9\n",
        "\n",
        "print(deger1 < deger2 < deger3)  # Sonuç \"True\" olarak dönecektir\n",
        "```\n",
        "\n"
      ]
    },
    {
      "cell_type": "markdown",
      "metadata": {
        "id": "JrbnTUNavEsJ",
        "colab_type": "text"
      },
      "source": [
        "**Görev:** Aşağıda değer atamaları tamamlanmış olan değişkenleri kullanarak ürünlerin peşin satın alınma bedelini TL olarak hesaplayın. Toplam satın alma bedeli ile bütçenizi karşılaştırın. Satın alma bedelini ve bütçenizi ekrana yazdırın. Ödeme bütçenizi aşıyorsa ekrana \"False\", aşmıyorsa \"True\" yazdırın.  "
      ]
    },
    {
      "cell_type": "code",
      "metadata": {
        "id": "chsHnUn9vWDA",
        "colab_type": "code",
        "outputId": "e5c54c07-5679-49dc-e145-dd857293d7c6",
        "colab": {
          "base_uri": "https://localhost:8080/",
          "height": 34
        }
      },
      "source": [
        "urunAdi = \"Bisiklet\"\n",
        "urunBedeliAvro = 850\n",
        "kurAvro = 7\n",
        "urunAdet = 3\n",
        "pesinAdetIndirimTL = 500\n",
        "butce = 15000\n",
        "\n",
        "sayi = urunAdet * pesinAdetIndirimTL\n",
        "\n",
        "print(sayi<butce)"
      ],
      "execution_count": 0,
      "outputs": [
        {
          "output_type": "stream",
          "text": [
            "True\n"
          ],
          "name": "stdout"
        }
      ]
    },
    {
      "cell_type": "markdown",
      "metadata": {
        "id": "qhLUJ8wJM79g",
        "colab_type": "text"
      },
      "source": [
        "# Part 03: Metin Katarları"
      ]
    },
    {
      "cell_type": "markdown",
      "metadata": {
        "id": "9UNmx1IUNSrB",
        "colab_type": "text"
      },
      "source": [
        "## Birbirine Bağlama\n",
        "Birbirine bağlama artı (+) işlemini kullanarak iki metin katarının birleştirilmesi işlemine denir."
      ]
    },
    {
      "cell_type": "markdown",
      "metadata": {
        "id": "6usSXTKYze8y",
        "colab_type": "text"
      },
      "source": [
        "**Örnek Uygulama:**"
      ]
    },
    {
      "cell_type": "markdown",
      "metadata": {
        "id": "1CkYIUTqNhSR",
        "colab_type": "text"
      },
      "source": [
        "\n",
        "\n",
        "```\n",
        "deger1 = \"Merhaba\"\n",
        "deger2 = \"Dünya\"\n",
        "\n",
        "selamlama = deger1 + \" \" + deger2\n",
        "print(selamlama)      # Çıktı: Merhaba Dünya\n",
        "```\n",
        "\n"
      ]
    },
    {
      "cell_type": "markdown",
      "metadata": {
        "id": "n9rA4HAHNqI7",
        "colab_type": "text"
      },
      "source": [
        "**Görev:** *ad*, *soyad* ve *hitap* değişkenlerini tek bir çıktıda birleştirecek kodu yazın! "
      ]
    },
    {
      "cell_type": "code",
      "metadata": {
        "id": "xyNs9VEFOHJc",
        "colab_type": "code",
        "outputId": "76d7ff8c-ab7c-46c1-8dbc-bd1f88eecfde",
        "colab": {
          "base_uri": "https://localhost:8080/",
          "height": 34
        }
      },
      "source": [
        "hitap = \"Öğr. Gör.\"\n",
        "ad = \"Orçun\"\n",
        "soyad = \"Madran\"\n",
        "\n",
        "sonuc = hitap + \" \" + ad + \" \" + soyad\n",
        "print(sonuc)\n",
        "# Çıktı: Öğr. Gör. Orçun Madran"
      ],
      "execution_count": 0,
      "outputs": [
        {
          "output_type": "stream",
          "text": [
            "Öğr. Gör. Orçun Madran\n"
          ],
          "name": "stdout"
        }
      ]
    },
    {
      "cell_type": "markdown",
      "metadata": {
        "id": "ipcnECBCOKWX",
        "colab_type": "text"
      },
      "source": [
        "## Metin Katarı Çarpımı\n",
        "Python, metin katarlarının çarpım sayısı kadar tekrar ettirilmesini desteklemektedir."
      ]
    },
    {
      "cell_type": "markdown",
      "metadata": {
        "id": "hKQAzEYOzyIk",
        "colab_type": "text"
      },
      "source": [
        "**Örnek Uygulama:**"
      ]
    },
    {
      "cell_type": "markdown",
      "metadata": {
        "id": "HXxuq9kMO2xm",
        "colab_type": "text"
      },
      "source": [
        "\n",
        "\n",
        "```\n",
        "metin = \"Hadi! \"\n",
        "metniCarp = metin * 4\n",
        "print(metniCarp) # Çıktı: Hadi! Hadi! Hadi! Hadi! \n",
        "```\n",
        "\n"
      ]
    },
    {
      "cell_type": "markdown",
      "metadata": {
        "id": "56NercDUOh8x",
        "colab_type": "text"
      },
      "source": [
        "**Görev:** Sizi sürekli bekleten arkadaşınızı uyarabilmek için istediğiniz sayıda \"Hadi!\" kelimesini ekrana yazdırın!"
      ]
    },
    {
      "cell_type": "code",
      "metadata": {
        "id": "j_CdqS1bPHAb",
        "colab_type": "code",
        "outputId": "f6d097a8-619e-40d2-be98-268a76ebe67a",
        "colab": {
          "base_uri": "https://localhost:8080/",
          "height": 34
        }
      },
      "source": [
        "metin = \"Hadi! \"\n",
        "metinsonucu= metin * 8\n",
        "print(metinsonucu)\n",
        "# Çıktı: Hadi! Hadi! Hadi! Hadi! ... Hadi!"
      ],
      "execution_count": 0,
      "outputs": [
        {
          "output_type": "stream",
          "text": [
            "Hadi! Hadi! Hadi! Hadi! Hadi! Hadi! Hadi! Hadi! \n"
          ],
          "name": "stdout"
        }
      ]
    },
    {
      "cell_type": "markdown",
      "metadata": {
        "id": "Xo6sOrv-PpgY",
        "colab_type": "text"
      },
      "source": [
        "##Metin Katarı Dizinleme\n",
        "Konumunu biliniyorsa, bir metin katarındaki ilgili karaktere erişebilebilir. Örneğin; str[index] metin katarındaki indeks numarasının karşılık geldiği karakteri geri döndürecektir. İndekslerin her zaman 0'dan başladığı unutulmamalıdır. İndeksler, sağdan saymaya başlamak için negatif sayılar da olabilir. -0, 0 ile aynı olduğundan, negatif indeksler -1 ile başlar."
      ]
    },
    {
      "cell_type": "markdown",
      "metadata": {
        "id": "93mxLsQ0z9bB",
        "colab_type": "text"
      },
      "source": [
        "**Örnek Uygulama:**"
      ]
    },
    {
      "cell_type": "markdown",
      "metadata": {
        "id": "VV71MAQFQaPs",
        "colab_type": "text"
      },
      "source": [
        "\n",
        "\n",
        "```\n",
        "metin = \"Python Programlama Dili\"\n",
        "print(\"h \" + metin[3])     # Not: indeksler 0'dan başlar\n",
        "```\n"
      ]
    },
    {
      "cell_type": "markdown",
      "metadata": {
        "id": "55Lviae-QTax",
        "colab_type": "text"
      },
      "source": [
        "**Görev:** İndeks numarasını kullanarak metin katarındaki ikinci \"P\" harfini ekrana yazdırın!\n"
      ]
    },
    {
      "cell_type": "code",
      "metadata": {
        "id": "dHJ48v5WQe4c",
        "colab_type": "code",
        "outputId": "a853ff8e-2493-4972-ac87-46c22910f435",
        "colab": {
          "base_uri": "https://localhost:8080/",
          "height": 34
        }
      },
      "source": [
        "metin = \"Python Programlama Dili\"\n",
        "print ( \"p \" + metin[7]) #metin katakarının içerisinde boşluk bulunduğu için program onu da harf gibi algılar. o yüzden 7 yazaral sonuca erişebiliriz.\n",
        "\n",
        "# Çıktı: P"
      ],
      "execution_count": 0,
      "outputs": [
        {
          "output_type": "stream",
          "text": [
            "p P\n"
          ],
          "name": "stdout"
        }
      ]
    },
    {
      "cell_type": "markdown",
      "metadata": {
        "id": "op2D6v9xQsRe",
        "colab_type": "text"
      },
      "source": [
        "## Metin Katarı Negatif Dizinleme\n",
        "Metin katarının sonlarında yer alan bir karaktere daha rahat erişebilmek için indeks numarası negatif bir değer olarak belirlenebilir."
      ]
    },
    {
      "cell_type": "markdown",
      "metadata": {
        "id": "FR64ir-m0Hw2",
        "colab_type": "text"
      },
      "source": [
        "**Örnek Uygulama:**"
      ]
    },
    {
      "cell_type": "markdown",
      "metadata": {
        "id": "kZTrtqD6RM7j",
        "colab_type": "text"
      },
      "source": [
        "\n",
        "```\n",
        "metin = \"Python Programlama Dili\"\n",
        "dHarfi = metin[-4]\n",
        "print(dHarfi)\n",
        "```\n",
        "\n"
      ]
    },
    {
      "cell_type": "markdown",
      "metadata": {
        "id": "ZM6vbbChQ_4R",
        "colab_type": "text"
      },
      "source": [
        "**Task:** Metin katarının sonunda yer alan \"i\" harfini ekrana yazdırın!"
      ]
    },
    {
      "cell_type": "code",
      "metadata": {
        "id": "d49Cfw-FRJMT",
        "colab_type": "code",
        "outputId": "2b46aec0-a1fc-48b0-c997-fa29d31342bb",
        "colab": {
          "base_uri": "https://localhost:8080/",
          "height": 34
        }
      },
      "source": [
        "metin = \"Python Programlama Dili\"\n",
        "harf = metin[-1]\n",
        "print(harf)\n",
        "#Çıktı: i"
      ],
      "execution_count": 0,
      "outputs": [
        {
          "output_type": "stream",
          "text": [
            "i\n"
          ],
          "name": "stdout"
        }
      ]
    },
    {
      "cell_type": "markdown",
      "metadata": {
        "id": "xPgrx41FRbrw",
        "colab_type": "text"
      },
      "source": [
        "##Metin Katarı Dilimleme\n",
        "Dilimleme, bir metin katarından birden çok karakter (bir alt katar) almak için kullanılır. Söz dizimi indeks numarası ile bir karaktere erişmeye benzer, ancak iki nokta üst üste işaretiyle ayrılmış iki indeks numarası kullanılır. Ör: str[ind1:ind2].\n",
        "\n",
        "Noktalı virgülün solundaki indeks numarası belirlenmezse ilk karakterden itibaren (ilk karakter dahil) seçimin yapılacağı anlamına gelir. Ör: str[:ind2]\n",
        "\n",
        "Noktalı virgülün sağındaki indeks numarası belirlenmezse son karaktere kadar (son karakter dahil) seçimin yapılacağı anlamına gelir. Ör: str[ind1:]"
      ]
    },
    {
      "cell_type": "markdown",
      "metadata": {
        "id": "cDh07_U90Kan",
        "colab_type": "text"
      },
      "source": [
        "**Örnek Uygulama:**"
      ]
    },
    {
      "cell_type": "markdown",
      "metadata": {
        "id": "X_MHtUgUSFpY",
        "colab_type": "text"
      },
      "source": [
        "\n",
        "\n",
        "```\n",
        "metin = \"Python Programlama Dili\"\n",
        "dilimle = metin[:6]      \n",
        "print(dilimle) # Çıktı: Python\n",
        "\n",
        "metin = \"Python Programlama Dili\" \n",
        "print(metin[7:]) # Çıktı: Programlama Dili\n",
        "\n",
        "```\n",
        "\n"
      ]
    },
    {
      "cell_type": "markdown",
      "metadata": {
        "id": "SjPJOtqUR7rT",
        "colab_type": "text"
      },
      "source": [
        "**Görev:** Metin katarını dilemleyerek katarda yer alan üç kelimeyi de ayrı ayrı (alt alta) ekrana yazdırın!."
      ]
    },
    {
      "cell_type": "code",
      "metadata": {
        "id": "bHxs-WnaSKie",
        "colab_type": "code",
        "outputId": "b5e34821-aa2c-4c10-c0eb-0d2eb7c9e907",
        "colab": {
          "base_uri": "https://localhost:8080/",
          "height": 69
        }
      },
      "source": [
        "metin = \"Python Programlama Dili\"\n",
        "print(metin[:7])\n",
        "print(metin[7:18])\n",
        "print(metin[19:24])\n",
        "# Çıktı:\n",
        "# Python\n",
        "# Programlama\n",
        "# Dili"
      ],
      "execution_count": 0,
      "outputs": [
        {
          "output_type": "stream",
          "text": [
            "Python \n",
            "Programlama\n",
            "Dili\n"
          ],
          "name": "stdout"
        }
      ]
    },
    {
      "cell_type": "markdown",
      "metadata": {
        "id": "aIfLylzcShEG",
        "colab_type": "text"
      },
      "source": [
        "##In Operatörü\n",
        "Bir metin katarının belirli bir harf ya da bir alt katar içerip içermediğini kontrol etmek için, in anahtar sözcüğü kullanılır."
      ]
    },
    {
      "cell_type": "markdown",
      "metadata": {
        "id": "oToLWF8F0Mx8",
        "colab_type": "text"
      },
      "source": [
        "**Örnek Uygulama:**"
      ]
    },
    {
      "cell_type": "markdown",
      "metadata": {
        "id": "pZZxStolS-Rg",
        "colab_type": "text"
      },
      "source": [
        "\n",
        "\n",
        "```\n",
        "metin = \"Python Programlama Dili\"\n",
        "print(\"Programlama\" in metin)    # Çıktı: True\n",
        "```\n",
        "\n"
      ]
    },
    {
      "cell_type": "markdown",
      "metadata": {
        "id": "551pDT0YS14M",
        "colab_type": "text"
      },
      "source": [
        "**Görev:** Metin katarında \"Python\" kelimesinin geçip geçmediğini kontrol ederek ekrana yazdırın!"
      ]
    },
    {
      "cell_type": "code",
      "metadata": {
        "id": "2CpxVwHMTENL",
        "colab_type": "code",
        "outputId": "a68495fe-f928-4a38-8372-eb0dd967b613",
        "colab": {
          "base_uri": "https://localhost:8080/",
          "height": 34
        }
      },
      "source": [
        "metin = \"Python Programlama Dili\"\n",
        "print(\"Python\" in metin)\n",
        "\n",
        "# Çıktı: True"
      ],
      "execution_count": 0,
      "outputs": [
        {
          "output_type": "stream",
          "text": [
            "True\n"
          ],
          "name": "stdout"
        }
      ]
    },
    {
      "cell_type": "markdown",
      "metadata": {
        "id": "mKLQLw8_TJyz",
        "colab_type": "text"
      },
      "source": [
        "##Metin Katarının Uzunluğu\n",
        "Bir metin katarının kaç karakter içerdiğini saymak için len() yerleşik fonksiyonu kullanılır. "
      ]
    },
    {
      "cell_type": "markdown",
      "metadata": {
        "id": "TO1s9wYS0Qhx",
        "colab_type": "text"
      },
      "source": [
        "**Örnek Uygulama:**"
      ]
    },
    {
      "cell_type": "markdown",
      "metadata": {
        "id": "aa4IkB7CTuyr",
        "colab_type": "text"
      },
      "source": [
        "\n",
        "\n",
        "```\n",
        "metin = \"Python programlama dili\"\n",
        "print(len(metin)) # Çıktı: 23\n",
        "```\n",
        "\n"
      ]
    },
    {
      "cell_type": "markdown",
      "metadata": {
        "id": "BF5DPvyuTa4R",
        "colab_type": "text"
      },
      "source": [
        "**Görev:** Metin katarındaki cümlenin ilk yarısını ekrana yazdırın!"
      ]
    },
    {
      "cell_type": "code",
      "metadata": {
        "id": "Uvnr2f1XT05N",
        "colab_type": "code",
        "outputId": "02e50c9a-9dae-496c-85bc-a20c96716b07",
        "colab": {
          "base_uri": "https://localhost:8080/",
          "height": 34
        }
      },
      "source": [
        "metin = \"Python programlama dili, dünyada eğitim amacıyla en çok kullanılan programlama dillerinin başında gelir.\"\n",
        "sonuc= metin[:int(len(metin)/2)]\n",
        "print(sonuc)\n",
        "# Çıktı: Python programlama dili, dünyada eğitim amacıyla en"
      ],
      "execution_count": 0,
      "outputs": [
        {
          "output_type": "stream",
          "text": [
            "Python programlama dili, dünyada eğitim amacıyla en \n"
          ],
          "name": "stdout"
        }
      ]
    },
    {
      "cell_type": "markdown",
      "metadata": {
        "id": "T_u1X0aKVAO2",
        "colab_type": "text"
      },
      "source": [
        "## Özel Karakterlerden Kaçma\n",
        "Metin katarları içerisinde tek ve çift tırnak kullanımı kimi zaman sorunlara yol açmaktadır. Bu karakterin metin katarları içerisinde kullanılabilmesi için \"Ters Eğik Çizgi\" ile birlikte kullanılırlar. \n",
        "\n",
        "Örneğin: 'Önümüzdeki ay \"Ankara'da Python Eğitimi\" gerçekleştirilecek' cümlesindeki tek tırnak kullanımı soruna yol açacağından 'Önümüzdeki ay \"Ankara\\'da Python Eğitimi\" gerçekleştirilecek' şeklinde kullanılmalıdır.\n",
        "\n",
        "**Not:** Tek tırnaklı metin katarlarından kaçmak için çift tırnak ya da tam tersi kullanılabilir."
      ]
    },
    {
      "cell_type": "markdown",
      "metadata": {
        "id": "WF9cEZEE0T4q",
        "colab_type": "text"
      },
      "source": [
        "**Örnek Uygulama:**"
      ]
    },
    {
      "cell_type": "markdown",
      "metadata": {
        "id": "bJX6J5bvVbZa",
        "colab_type": "text"
      },
      "source": [
        "\n",
        "\n",
        "```\n",
        "metin = 'Önümüzdeki ay \"Ankara'da Python Eğitimi\" gerçekleştirilecektir.'\n",
        "print(metin) # Çıktı: Geçersiz söz dizimi hatası dönecektir. \n",
        "\n",
        "metin = 'Önümüzdeki ay \"Ankara\\'da Python Eğitimi\" gerçekleştirilecektir.'\n",
        "print(metin) #Çıktı: Önümüzdeki ay \"Ankara'da Python Eğitimi\" gerçekleştirilecektir.\n",
        "```\n",
        "\n"
      ]
    },
    {
      "cell_type": "markdown",
      "metadata": {
        "id": "5520MewzVPmx",
        "colab_type": "text"
      },
      "source": [
        "**Task:** Metin katarındaki cümlede yer alan noktalama işaretlerinden uygun şekilde kaçarak cümleyi ekrana yazdırın!"
      ]
    },
    {
      "cell_type": "code",
      "metadata": {
        "id": "A8Gpec2uVhxU",
        "colab_type": "code",
        "outputId": "231d2576-72be-4e64-d62e-c77ed084be57",
        "colab": {
          "base_uri": "https://localhost:8080/",
          "height": 34
        }
      },
      "source": [
        "metin = 'Bilimsel çalışmalarda \"Python\" kullanı\\'mı Türkiye\\'de çok yaygınlaştı!'\n",
        "print(metin)"
      ],
      "execution_count": 0,
      "outputs": [
        {
          "output_type": "stream",
          "text": [
            "Bilimsel çalışmalarda \"Python\" kullanı'mı Türkiye'de çok yaygınlaştı!\n"
          ],
          "name": "stdout"
        }
      ]
    },
    {
      "cell_type": "markdown",
      "metadata": {
        "id": "cft6m1VaVqVH",
        "colab_type": "text"
      },
      "source": [
        "##Basit Metin Katarı Metodları\n",
        "Python içinde birçok yerleşik metin katarı fonksiyonu vardır. En çok kullanılan fonksiyonlardan bazıları olarak;\n",
        "\n",
        "* tüm harfleri büyük harfe dönüştüren upper(),\n",
        "* tüm harfleri küçük harfe dönüştüren lower(),\n",
        "* sadece cümlenin ilk harfini büyük hale getiren capitalize() sayılabilir.\n",
        "\n",
        "**Not:** Python'daki yerleşik fonksiyonların bir listesini görüntüleyebilmek için metin katarından sonra bir nokta (.) koyulur ve uygun olan fonksiyonlar arayüz tarafından otomatik olarak listelenir. Bu yardımcı işlevi tetiklemek için CTRL + Bolşuk tuş kombinasyonu da kullanılabilir."
      ]
    },
    {
      "cell_type": "markdown",
      "metadata": {
        "id": "5_V3UGn20YGV",
        "colab_type": "text"
      },
      "source": [
        "**Örnek Uygulama:**"
      ]
    },
    {
      "cell_type": "markdown",
      "metadata": {
        "id": "S3-V5gloV3MM",
        "colab_type": "text"
      },
      "source": [
        "\n",
        "\n",
        "```\n",
        "metin = \"Python Programlama Dili\"\n",
        "print(metin.lower())    # Çıktı: python programlama dili\n",
        "print(metin.upper())    # Çıktı: PYTHON PROGRAMLAMA DILI\n",
        "print(metin.capitalize())    # Çıktı: Python programlama dili\n",
        "```\n",
        "\n"
      ]
    },
    {
      "cell_type": "markdown",
      "metadata": {
        "id": "-ko2Gpq_Vz23",
        "colab_type": "text"
      },
      "source": [
        "**Görev:** *anahtarKelime* ve *arananKelime* değişkenlerinde yer alan metinler karşılaştırıldığında birbirlerine eşit (==) olmalarını sağlayın ve dönen değerin \"True\" olmasını sağlayın!"
      ]
    },
    {
      "cell_type": "code",
      "metadata": {
        "id": "XfaN4psBV8wr",
        "colab_type": "code",
        "outputId": "04ec7010-aa58-4e8a-b8af-178fbf527b4a",
        "colab": {
          "base_uri": "https://localhost:8080/",
          "height": 34
        }
      },
      "source": [
        "anahtarKelime = \"Makine Öğrenmesi\"\n",
        "arananKelime = \"makine öğrenmesi\"\n",
        "\n",
        "print(anahtarKelime.upper() == arananKelime.upper()) # Çıktı: True"
      ],
      "execution_count": 0,
      "outputs": [
        {
          "output_type": "stream",
          "text": [
            "True\n"
          ],
          "name": "stdout"
        }
      ]
    },
    {
      "cell_type": "markdown",
      "metadata": {
        "id": "16m1oC6LWEdJ",
        "colab_type": "text"
      },
      "source": [
        "##Metin Katarı Biçimlendirme\n",
        "Bir metin katarından sonraki % operatörü, bir metin katarını değişkenlerle birleştirmek için kullanılır. % operatörü, bir metin katarıdanki % s öğesini, arkasından gelen değişkenle değiştirir. % d özel sembolü ise, sayısal veya ondalık değerler için yer tutucu olarak kullanılır."
      ]
    },
    {
      "cell_type": "markdown",
      "metadata": {
        "id": "Qr673Q4m0czk",
        "colab_type": "text"
      },
      "source": [
        "**Örnek Uygulama:**"
      ]
    },
    {
      "cell_type": "markdown",
      "metadata": {
        "id": "1l70j4-3WP4b",
        "colab_type": "text"
      },
      "source": [
        "\n",
        "\n",
        "```\n",
        "adsoyad = \"Orçun Madran\"\n",
        "dogumTarihi = 1976\n",
        "\n",
        "print(\"Merhaba, ben %s!\" % adsoyad) #  Çıktı: Merhaba, ben Orçun Madran!\n",
        "print(\"Ben %d doğumluyum\" % dogumTarihi) #  Ben 1976 doğumluyum.\n",
        "\n",
        "ad = \"Orçun\"\n",
        "soyad = \"Madran\"\n",
        "\n",
        "print(\"Merhaba, ben %s %s!\" % (ad, soyad)) #  Çıktı: Merhaba, ben Orçun Madran!\n",
        "```\n",
        "\n"
      ]
    },
    {
      "cell_type": "markdown",
      "metadata": {
        "id": "b7ny_Q7uWJJX",
        "colab_type": "text"
      },
      "source": [
        "**Görev:** Merhaba Orçun Madran, bu dönemki dersiniz \"Programlama Dilleri\". Başarılar! cümlesini ekrana biçimlendirmeyi kullanarak (artı işaretini kullanmadan) yazdırın!"
      ]
    },
    {
      "cell_type": "code",
      "metadata": {
        "id": "HxYY3XqGWYsi",
        "colab_type": "code",
        "outputId": "08a64e6f-0df3-4d33-cfe0-f497fe4091a7",
        "colab": {
          "base_uri": "https://localhost:8080/",
          "height": 34
        }
      },
      "source": [
        "ad = \"Orçun\"\n",
        "soyad = \"Madran\"\n",
        "ders = \"Programlama Dilleri\"\n",
        "print(\"Merhaba, %s %s, bu dönemki dersiniz %s. Başarılar!\" % ( ad, soyad ,ders) )\n",
        "# Çıktı: Merhaba Orçun Madran, bu dönemki dersiniz \"Programlama Dilleri\". Başarılar!\n"
      ],
      "execution_count": 0,
      "outputs": [
        {
          "output_type": "stream",
          "text": [
            "Merhaba, Orçun Madran, bu dönemki dersiniz Programlama Dilleri. Başarılar!\n"
          ],
          "name": "stdout"
        }
      ]
    },
    {
      "cell_type": "markdown",
      "metadata": {
        "id": "nTiryVt-EuJP",
        "colab_type": "text"
      },
      "source": [
        "# Bölüm 04: Veri Yapıları"
      ]
    },
    {
      "cell_type": "markdown",
      "metadata": {
        "id": "H78J_wNDE1Id",
        "colab_type": "text"
      },
      "source": [
        "## Listeler\n",
        "Liste, farklı bilgi parçalarının bir koleksiyonunu tek bir değişken adı altında saklamak için kullanabileceğiniz bir veri yapısıdır. Bir liste köşeli parantez arasında virgülle ayrılmış değerler dizisi olarak yazılabilir. Ör: liste = [deger1, deger2]. Listeler farklı türden öğeler içerebilir, ancak genellikle listedeki tüm öğeler aynı türdedir. Metin katarları gibi listeler de dizine eklenebilir ve dilimlenebilir (bkz. Bölüm 3)."
      ]
    },
    {
      "cell_type": "markdown",
      "metadata": {
        "id": "T_nubI5kGCs3",
        "colab_type": "text"
      },
      "source": [
        "**Örnek Uygulama**"
      ]
    },
    {
      "cell_type": "markdown",
      "metadata": {
        "id": "O4TC5Qs2Ge8H",
        "colab_type": "text"
      },
      "source": [
        "\n",
        "\n",
        "```\n",
        "acikListe = [\"Açık Bilim\", \"Açık Erişim\", \"Açık Veri\", \"Açık Eğitim\", \"Açık Kaynak\"]   # acikListe adında yeni bir liste oluşturur\n",
        "\n",
        "print(acikListe) # Çıktı: ['Açık Bilim', 'Açık Erişim', 'Açık Veri', 'Açık Eğitim', 'Açık Kaynak']\n",
        "```\n",
        "\n"
      ]
    },
    {
      "cell_type": "markdown",
      "metadata": {
        "colab_type": "text",
        "id": "ZqYRBLZSIJvi"
      },
      "source": [
        "**Görev 1:** acikListe içinde yer alan 3. liste öğesini ekrana yazıdırın! "
      ]
    },
    {
      "cell_type": "code",
      "metadata": {
        "id": "bVSMLdnLG7Kx",
        "colab_type": "code",
        "outputId": "a162439b-ba2e-4c49-8969-121ffc3039a1",
        "colab": {
          "base_uri": "https://localhost:8080/",
          "height": 34
        }
      },
      "source": [
        "acikListe = [\"Açık Bilim\", \"Açık Erişim\", \"Açık Veri\", \"Açık Eğitim\", \"Açık Kaynak\"]\n",
        "print(acikListe[2])"
      ],
      "execution_count": 0,
      "outputs": [
        {
          "output_type": "stream",
          "text": [
            "Açık Veri\n"
          ],
          "name": "stdout"
        }
      ]
    },
    {
      "cell_type": "markdown",
      "metadata": {
        "colab_type": "text",
        "id": "pZ4hTBC0JCln"
      },
      "source": [
        "**Görev 2:** acikListe içinde yer alan 4. ve 5. liste öğesini ekrana yazıdırın! "
      ]
    },
    {
      "cell_type": "code",
      "metadata": {
        "colab_type": "code",
        "id": "_DgLPxODI3aP",
        "outputId": "a0f1300d-1b03-4e30-a65e-5f26738beb41",
        "colab": {
          "base_uri": "https://localhost:8080/",
          "height": 34
        }
      },
      "source": [
        "acikListe = [\"Açık Bilim\", \"Açık Erişim\", \"Açık Veri\", \"Açık Eğitim\", \"Açık Kaynak\"]\n",
        "print(acikListe[3:])"
      ],
      "execution_count": 0,
      "outputs": [
        {
          "output_type": "stream",
          "text": [
            "['Açık Eğitim', 'Açık Kaynak']\n"
          ],
          "name": "stdout"
        }
      ]
    },
    {
      "cell_type": "markdown",
      "metadata": {
        "id": "D_Vt3_mQJq9Q",
        "colab_type": "text"
      },
      "source": [
        "## Liste İşlemleri\n",
        "Append () yöntemini ya da birleştirmeyi += kullanarak listenin sonuna yeni öğeler (değerler) eklenebilir. Metin katarlarından farklı olarak, listeler değiştirilebilir bir türdür, yani liste[indeksNo] = yeni_deger kullanarak içeriklerini değiştirmek mümkündür."
      ]
    },
    {
      "cell_type": "markdown",
      "metadata": {
        "id": "m7Y-NBAALfyk",
        "colab_type": "text"
      },
      "source": [
        "**Örnek Uygulama**"
      ]
    },
    {
      "cell_type": "markdown",
      "metadata": {
        "colab_type": "text",
        "id": "3xGEUhipL11G"
      },
      "source": [
        "\n",
        "\n",
        "```\n",
        "acikListe = [\"Açık Bilim\", \"Açık Erişim\", \"Açık Veri\", \"Açık Eğitim\", \"Açık Kaynak\"]   # acikListe adında yeni bir liste oluşturur\n",
        "print(acikliste) # Çıktı: ['Açık Bilim', 'Açık Erişim', 'Açık Veri', 'Açık Eğitim', 'Açık Kaynak']\n",
        "\n",
        "acikListe += [\"Açık Donanım\", \"Açık İnovasyon\"]    # listeye iki yeni öğe ekler\n",
        "print(acikListe) # Çıktı: ['Açık Bilim', 'Açık Erişim', 'Açık Veri', 'Açık Eğitim', 'Açık Kaynak', 'Açık Donanım', 'Açık İnovasyon']\n",
        "\n",
        "acikListe.append(\"Açık Veri Gazeteciliği\")   # listeye yeni bir öğe ekler\n",
        "print(acikListe) # Çıktı: ['Açık Bilim', 'Açık Erişim', 'Açık Veri', 'Açık Eğitim', 'Açık Kaynak', 'Açık Donanım', 'Açık İnovasyon', 'Açık Veri Gazeteciliği']\n",
        "\n",
        "acikListe[4] = \"Açık Kaynak Kod\" # listenin 5. öğesini değiştirir\n",
        "print(acikListe) # Çıktı: ['Açık Bilim', 'Açık Erişim', 'Açık Veri', 'Açık Eğitim', 'Açık Kaynak Kod', 'Açık Donanım', 'Açık İnovasyon', 'Açık Veri Gazeteciliği']\n",
        "```\n",
        "\n"
      ]
    },
    {
      "cell_type": "markdown",
      "metadata": {
        "id": "5hgUnMj7ODY1",
        "colab_type": "text"
      },
      "source": [
        "**Görev:** bilgiBilim adlı bir liste oluşturun. Bu listeye bilgi bilim disiplini ile ilgili 3 adet anahtar kelime ya da kavram ekleyin. Bu listeyi ekrana yazdırın. Listeye istediğiniz bir yöntem ile (append(), +=) 2 yeni öğe ekleyin. Ekrana listenin son durumunu yazdırın. Listenizdeki son öğeyi değiştirin. Listenin son halini ekrana yazıdırn."
      ]
    },
    {
      "cell_type": "code",
      "metadata": {
        "id": "_gzwR_UGLkL4",
        "colab_type": "code",
        "outputId": "9aebac08-c3f6-411a-c380-be34eca48151",
        "colab": {
          "base_uri": "https://localhost:8080/",
          "height": 52
        }
      },
      "source": [
        "bilgiBilim = [\"bilgisayar\", \"programlama\",\"kodlama\"]\n",
        "print(bilgiBilim)\n",
        "\n",
        "bilgiBilim += [\"veri\",\"analiz\"]\n",
        "print(bilgiBilim)"
      ],
      "execution_count": 0,
      "outputs": [
        {
          "output_type": "stream",
          "text": [
            "['bilgisayar', 'programlama', 'kodlama']\n",
            "['bilgisayar', 'programlama', 'kodlama', 'veri', 'analiz']\n"
          ],
          "name": "stdout"
        }
      ]
    },
    {
      "cell_type": "markdown",
      "metadata": {
        "id": "qiE0PiXLPQmM",
        "colab_type": "text"
      },
      "source": [
        "## Liste Öğeleri"
      ]
    },
    {
      "cell_type": "markdown",
      "metadata": {
        "id": "S7yYWbwTPXQ8",
        "colab_type": "text"
      },
      "source": [
        "Liste öğelerini dilimleme (slice) yaparak da atamak mümkündür. Bu bir listenin boyutunu değiştirebilir veya listeyi tamamen temizleyebilir."
      ]
    },
    {
      "cell_type": "markdown",
      "metadata": {
        "id": "rujdtp_XPp9N",
        "colab_type": "text"
      },
      "source": [
        "**Örnek Uygulama**"
      ]
    },
    {
      "cell_type": "markdown",
      "metadata": {
        "id": "_ooqgLJbPsXC",
        "colab_type": "text"
      },
      "source": [
        "\n",
        "\n",
        "```\n",
        "acikListe = [\"Açık Bilim\", \"Açık Erişim\", \"Açık Veri\", \"Açık Eğitim\", \"Açık Kaynak\"]   # acikListe adında yeni bir liste oluşturur\n",
        "print(acikListe) # Çıktı: ['Açık Bilim', 'Açık Erişim', 'Açık Veri', 'Açık Eğitim', 'Açık Kaynak']\n",
        "\n",
        "acikListe[2:4] = [\"Açık İnovasyon\"]    # \"Açık Veri\" ve \"Açık Eğitim\" öğelerinin yerine tek bir öğe ekler\n",
        "print(acikListe)  #Çıktı:  [\"Açık Bilim\", \"Açık Erişim\", \"Açık İnovasyon\", \"Açık Kaynak\"]\n",
        "\n",
        "acikListe[:2] = []     # listenin ilk iki öğesini siler\n",
        "print(acikListe)  #Çıktı:  [\"Açık İnovasyon\", \"Açık Kaynak\"]\n",
        "\n",
        "acikListe[:] = [] # listeyi temizler \n",
        "print(acikListe)  #Çıktı: []\n",
        "```\n",
        "\n"
      ]
    },
    {
      "cell_type": "markdown",
      "metadata": {
        "id": "4C3xLijJSKdE",
        "colab_type": "text"
      },
      "source": [
        "**Görev:** Önceki görevde oluşturulan \"bilgiBilim\" adlı listenin istediğiniz öğesini silerek listenin güncel halini ekrana yazdırın. Listeyi tamamen temizleyerek listenin güncel halini ekrana yazdırın."
      ]
    },
    {
      "cell_type": "code",
      "metadata": {
        "colab_type": "code",
        "id": "cEJAzV7yXOGf",
        "outputId": "84620c4d-953d-42cb-8879-0c8aaeb70d39",
        "colab": {
          "base_uri": "https://localhost:8080/",
          "height": 52
        }
      },
      "source": [
        "bilgiBilim = ['bilgisayar', 'programlama', 'kodlama', 'veri', 'analiz']\n",
        "bilgiBilim [2:3] = [] #listeki 3. kelimeyi silmiş oluruz\n",
        "print(bilgiBilim)\n",
        "bilgiBilim[:] = [] #bütün listeyi silmiş oluruz.\n",
        "print(bilgiBilim)"
      ],
      "execution_count": 0,
      "outputs": [
        {
          "output_type": "stream",
          "text": [
            "['bilgisayar', 'programlama', 'veri', 'analiz']\n",
            "[]\n"
          ],
          "name": "stdout"
        }
      ]
    },
    {
      "cell_type": "markdown",
      "metadata": {
        "id": "J_f83oCDS-Hz",
        "colab_type": "text"
      },
      "source": [
        "## Demetler (Tuples)"
      ]
    },
    {
      "cell_type": "markdown",
      "metadata": {
        "id": "9er0WsfhTBpI",
        "colab_type": "text"
      },
      "source": [
        "Demetler neredeyse listelerle aynı. Demetler ve listeler arasındaki tek önemli fark, demetlerin değiştirilememesidir. Demetlere öğe eklenmez, öğe değiştirilmez veya demetlerden öğe silinemez. Demetler, parantez içine alınmış bir virgül operatörü tarafından oluşturulur. Ör: demet = (\"deger1\", \"deger2\", \"deger3\"). Tek bir öğe demetinde (\"d\",) gibi bir virgül olmalıdır."
      ]
    },
    {
      "cell_type": "markdown",
      "metadata": {
        "id": "yvlCXOLOTq0o",
        "colab_type": "text"
      },
      "source": [
        "**Örnek Uygulama**"
      ]
    },
    {
      "cell_type": "markdown",
      "metadata": {
        "id": "h95qzA42Tti-",
        "colab_type": "text"
      },
      "source": [
        "\n",
        "\n",
        "```\n",
        "ulkeKodlari = (\"TR\", \"US\", \"EN\", \"JP\")\n",
        "print(ulkeKodlari)   # Çıktı: ('TR', 'US', 'EN', 'JP')\n",
        "```\n",
        "\n"
      ]
    },
    {
      "cell_type": "markdown",
      "metadata": {
        "id": "ON1kJ2-nU2ZO",
        "colab_type": "text"
      },
      "source": [
        "**Görev:** Kongre Kütüphanesi konu başlıkları listesinin kodlarından oluşan bir demet oluşturun ve ekrana yazdırın! Oluşturulan demet içindeki tek bir öğeyi ekrana yazdırın!"
      ]
    },
    {
      "cell_type": "code",
      "metadata": {
        "id": "p4i7BTX1Uv9S",
        "colab_type": "code",
        "outputId": "1ea6aea7-f915-4a2e-c534-d7896fbe0210",
        "colab": {
          "base_uri": "https://localhost:8080/",
          "height": 52
        }
      },
      "source": [
        "konubaslıkları =(\"CC\",\"HA\",\"HB\")\n",
        "print(konubaslıkları)\n",
        "print(konubaslıkları[2])"
      ],
      "execution_count": 0,
      "outputs": [
        {
          "output_type": "stream",
          "text": [
            "('CC', 'HA', 'HB')\n",
            "HB\n"
          ],
          "name": "stdout"
        }
      ]
    },
    {
      "cell_type": "markdown",
      "metadata": {
        "id": "HkDm5do0Vduc",
        "colab_type": "text"
      },
      "source": [
        "## Sözlükler\n",
        "Sözlük, listeye benzer, ancak sözlük içindeki değerlere indeks numarası yerine bir anahtara bakarak erişilebilir. Bir anahtar herhangi bir metin katarı veya rakam olabilir. Sözlükler ayraç içine alınır. Ör: sozluk = {'anahtar1': \"değer1\", 'anahtar2': \"değer2\"}."
      ]
    },
    {
      "cell_type": "markdown",
      "metadata": {
        "id": "KAS6zUyhV6BQ",
        "colab_type": "text"
      },
      "source": [
        "**Örnek Uygulama**"
      ]
    },
    {
      "cell_type": "markdown",
      "metadata": {
        "id": "e1BbS2f3V9le",
        "colab_type": "text"
      },
      "source": [
        "\n",
        "\n",
        "```\n",
        "adresDefteri = {\"Hacettepe Üniversitesi\": \"hacettepe.edu.tr\", \"ODTÜ\": \"odtu.edu.tr\", \"Bilkent Üniversitesi\": \"bilkent.edu.tr\"} # yeni bir sözlük oluşturur\n",
        "print(adresDefteri) # Çıktı: {'Hacettepe Üniversitesi': 'hacettepe.edu.tr', 'ODTÜ': 'odtu.edu.tr', 'Bilkent Üniversitesi': 'bilkent.edu.tr'}\n",
        "\n",
        "adresDefteri[\"Ankara Üniversitesi\"] = \"ankara.edu.tr\" #sözlüğe yeni bir öğe ekler\n",
        "print(adresDefteri)  # Çıktı: {'Hacettepe Üniversitesi': 'hacettepe.edu.tr', 'ODTÜ': 'odtu.edu.tr', 'Bilkent Üniversitesi': 'bilkent.edu.tr', 'Ankara Üniversitesi': 'ankara.edu.tr'}\n",
        "\n",
        "del adresDefteri [\"Ankara Üniversitesi\"] #sözlükten belirtilen öğeyi siler\n",
        "print(adresDefteri) # Çıktı: {'Hacettepe Üniversitesi': 'hacettepe.edu.tr', 'ODTÜ': 'odtu.edu.tr', 'Bilkent Üniversitesi': 'bilkent.edu.tr'}\n",
        "```\n",
        "\n"
      ]
    },
    {
      "cell_type": "markdown",
      "metadata": {
        "id": "fDWQzlKTXYbo",
        "colab_type": "text"
      },
      "source": [
        "**Görev:** İstediğin herhangi bir konuda 5 öğeye sahip bir sözlük oluştur. Sözlüğü ekrana yazdır. Sözlükteki belirli bir öğeyi ekrana yazdır. Sözlükteki belirli bir öğeyi silerek sözlüğün güncel halini ekrana yazdır!"
      ]
    },
    {
      "cell_type": "code",
      "metadata": {
        "id": "t4-oPZTRXEuQ",
        "colab_type": "code",
        "outputId": "ef3b8ee1-0fac-4ef2-b0d6-467ac9318c38",
        "colab": {
          "base_uri": "https://localhost:8080/",
          "height": 52
        }
      },
      "source": [
        "sozluk ={\"ankara\": \"çankaya\", \"istanbul\" : \"taksim\",\"izmir\": \"sirince\",\"mugla\": \"bodrum\",\"samsun\": \"carsamba\"}\n",
        "print(sozluk)\n",
        "\n",
        "del sozluk [\"ankara\"]\n",
        "print(sozluk)\n"
      ],
      "execution_count": 0,
      "outputs": [
        {
          "output_type": "stream",
          "text": [
            "{'ankara': 'çankaya', ',istanbul': 'taksim', 'izmir': 'sirince', 'mugla': 'bodrum', 'samsun': 'carsamba'}\n",
            "{',istanbul': 'taksim', 'izmir': 'sirince', 'mugla': 'bodrum', 'samsun': 'carsamba'}\n"
          ],
          "name": "stdout"
        }
      ]
    },
    {
      "cell_type": "markdown",
      "metadata": {
        "id": "9qqctZNZX6q4",
        "colab_type": "text"
      },
      "source": [
        "## Sözlük Değerleri ve Anahtarları\n",
        "Sözlüklerde values() ve keys() gibi birçok yararlı fonksiyon vardır. Bir sozlük adı ve ardından noktadan sonra çıkan listeyi kullanarak geri kalan fonksiyolar incelenebilir."
      ]
    },
    {
      "cell_type": "markdown",
      "metadata": {
        "id": "SSfVp3ITYa42",
        "colab_type": "text"
      },
      "source": [
        "**Örnek Uygulama**"
      ]
    },
    {
      "cell_type": "markdown",
      "metadata": {
        "id": "EaYu0M-1Ydia",
        "colab_type": "text"
      },
      "source": [
        "\n",
        "\n",
        "```\n",
        "adresDefteri = {\"Hacettepe Üniversitesi\": \"hacettepe.edu.tr\", \"ODTÜ\": \"odtu.edu.tr\", \"Bilkent Üniversitesi\": \"bilkent.edu.tr\"} # yeni bir sözlük oluşturur\n",
        "print(adresDefteri) # Çıktı: {'Hacettepe Üniversitesi': 'hacettepe.edu.tr', 'ODTÜ': 'odtu.edu.tr', 'Bilkent Üniversitesi': 'bilkent.edu.tr'}\n",
        "\n",
        "print(adresDefteri.values()) # Çıktı: dict_values(['hacettepe.edu.tr', 'odtu.edu.tr', 'bilkent.edu.tr'])\n",
        "\n",
        "print(adresDefteri.keys()) # Çıktı: dict_keys(['Hacettepe Üniversitesi', 'ODTÜ', 'Bilkent Üniversitesi'])\n",
        "```\n",
        "\n"
      ]
    },
    {
      "cell_type": "markdown",
      "metadata": {
        "id": "twxTKZ-XY_5l",
        "colab_type": "text"
      },
      "source": [
        "**Görev:** İstediğin bir konuda istediğin öğe saysına sahip bir sözlük oluştur. Sözlükler ile ilgili farklı fonksiyoları dene. Sonuçları ekrana yazdır!"
      ]
    },
    {
      "cell_type": "code",
      "metadata": {
        "id": "CcNcGoOaZfja",
        "colab_type": "code",
        "outputId": "d109a03d-26f0-46cf-de63-69737cf4131b",
        "colab": {
          "base_uri": "https://localhost:8080/",
          "height": 69
        }
      },
      "source": [
        "denemesozluk = {\"elma\": \"meyve\", \"biber\": \"sebze\", \"kiraz\":\"meyve\", \"patlıcan\":\"sebze\"}\n",
        "print(denemesozluk)\n",
        "\n",
        "print(denemesozluk.values())\n",
        "\n",
        "print(denemesozluk.keys())"
      ],
      "execution_count": 0,
      "outputs": [
        {
          "output_type": "stream",
          "text": [
            "{'elma': 'meyve', 'biber': 'sebze', 'kiraz': 'meyve', 'patlıcan': 'sebze'}\n",
            "dict_values(['meyve', 'sebze', 'meyve', 'sebze'])\n",
            "dict_keys(['elma', 'biber', 'kiraz', 'patlıcan'])\n"
          ],
          "name": "stdout"
        }
      ]
    },
    {
      "cell_type": "markdown",
      "metadata": {
        "id": "iFlaNCzFpdIj",
        "colab_type": "text"
      },
      "source": [
        "##In Anahtar Kelimesi\n",
        "\"In\" anahtar sözcüğü, bir listenin veya sözlüğün belirli bir öğe içerip içermediğini kontrol etmek için kullanılır. Daha önce metin katarlarındaki kullanıma benzer bir kullanımı vardır. \"In\" anahtar sözcüğü ile öğe kontrolü kontrolü yapıldıktan sonra sonuç öğe listede ya da sözlükte yer alıyorsa *True* yer almıyorsa *False* olarak geri döner.\n",
        "\n",
        "**Önemli**: Aranan öğe ile liste ya da sözlük içinde yer alan öğelerin karşılaştırılması sırasında büyük-küçük harf duyarlılığı bulunmaktadır. Ör: \"Bilgi\" ve \"bilgi\" iki farklı öğe olarak değerlendirilir."
      ]
    },
    {
      "cell_type": "markdown",
      "metadata": {
        "id": "0oPHzw0wq5rw",
        "colab_type": "text"
      },
      "source": [
        "**Örnek Uygulama**"
      ]
    },
    {
      "cell_type": "markdown",
      "metadata": {
        "id": "rZ-pjki1q6bs",
        "colab_type": "text"
      },
      "source": [
        "\n",
        "\n",
        "```\n",
        "bilgiKavramları = [\"indeks\", \"erişim\", \"koleksiyon\"]   # yeni bir liste oluşturur\n",
        "\n",
        "print(\"Erişim\" in bilgiKavramları)    # Çıktı: False\n",
        "\n",
        "bilgiSozlugu = {\"indeks\": \"index\", \"erişim\": \"access\", \"koleksiyon\": \"collection\"}   # yeni bir sozluk oluşturur\n",
        "\n",
        "print(\"koleksiyon\" in bilgiSozlugu.keys())  #  çıktı: True\n",
        "```\n",
        "\n"
      ]
    },
    {
      "cell_type": "markdown",
      "metadata": {
        "id": "Pdn_zG-mq9Sx",
        "colab_type": "text"
      },
      "source": [
        "**Görev:** Bir liste ve bir sözlük oluşturun. Liste içinde istediğiniz kelimeyi aratın ve sonucunu ekrana yazdırın! Oluşturduğunuz sözlüğün içinde hem anahtar kelime (keys()) hem de değer (values()) kontrolü yaptırın ve sonucunu ekrana yazdırın!"
      ]
    },
    {
      "cell_type": "code",
      "metadata": {
        "id": "3Sl_XODcq1mL",
        "colab_type": "code",
        "outputId": "0566c501-83f3-47ef-d010-6700a5704ae9",
        "colab": {
          "base_uri": "https://localhost:8080/",
          "height": 52
        }
      },
      "source": [
        "dersler = [\"tarih\", \"matematik\", \"türkce\", \"sosyal\", \"fen\"]\n",
        "print(\"felsefe\" in dersler)\n",
        "\n",
        "dersler2 = { \"tarih\": \"lale devri\" , \"matematik\":\"problemler\" , \"türkce\":\"ses bilgisi\" , \"sosyal\":\"reform\" , \"fen\":\"mitoz bölünme\" }\n",
        "print(\"problemler\" in dersler2.values())"
      ],
      "execution_count": 0,
      "outputs": [
        {
          "output_type": "stream",
          "text": [
            "False\n",
            "True\n"
          ],
          "name": "stdout"
        }
      ]
    },
    {
      "cell_type": "markdown",
      "metadata": {
        "id": "o68yxOoTx1vA",
        "colab_type": "text"
      },
      "source": [
        "#Bölüm 05: Koşullu İfadeler"
      ]
    },
    {
      "cell_type": "markdown",
      "metadata": {
        "id": "0R6l7TiLyI1H",
        "colab_type": "text"
      },
      "source": [
        "##Mantıksal Operatörler\n",
        "Mantıksal operatörler ifadeleri karşılaştırır ve sonuçları *True* ya da *False* değerleriyle döndürür. Python'da üç tane mantıksal operatör bulunur:\n",
        "\n",
        "1. \"and\" operatörü: Her iki yanındaki ifadeler doğru olduğunda *True* değerini döndürür.\n",
        "2. \"or\" operatörü: Her iki tarafındaki ifadelerden en az bir ifade doğru olduğunda \"True\" değerini döndürür.\n",
        "3. \"not\" operatörü: İfadenin tam tersi olarak değerlendirilmesini sağlar.\n"
      ]
    },
    {
      "cell_type": "markdown",
      "metadata": {
        "id": "Rp86gPKQ1oau",
        "colab_type": "text"
      },
      "source": [
        "**Örnek Uygulama**"
      ]
    },
    {
      "cell_type": "markdown",
      "metadata": {
        "id": "6HZvGmjG1rxk",
        "colab_type": "text"
      },
      "source": [
        "\n",
        "\n",
        "```\n",
        "kullaniciAdi = \"orcunmadran\"\n",
        "sifre = 123456\n",
        "print(kullaniciAdi == \"orcunmadran\" and sifre == 123456) # Çıktı: True\n",
        "\n",
        "kullaniciAdi = \"orcunmadran\"\n",
        "sifre = 123456\n",
        "print(kullaniciAdi == \"orcunmadran\" and not sifre == 123456) # Çıktı: False\n",
        "\n",
        "cepTel = \"05321234567\"\n",
        "ePosta = \"orcunmadran@gmail.com\"\n",
        "print(cepTel == \"\" or ePosta == \"orcunmadran@gmail.com\" ) # Çıktı: True\n",
        "```\n",
        "\n"
      ]
    },
    {
      "cell_type": "markdown",
      "metadata": {
        "id": "nwkgY8TZ5NcI",
        "colab_type": "text"
      },
      "source": [
        "**Görev:** Klavyeden girilen kullanıcı adı ve şifrenin kayıtlı bulunan kullanıcı adı ve şifre ile uyuşup uyuşmadığını kontrol edin ve sonucu ekrana yazdırın!"
      ]
    },
    {
      "cell_type": "code",
      "metadata": {
        "id": "XMHB4_dY3B1v",
        "colab_type": "code",
        "outputId": "36848936-c741-49ec-fdc5-5a97a5e1adc0",
        "colab": {
          "base_uri": "https://localhost:8080/",
          "height": 69
        }
      },
      "source": [
        "#Sistemde yer alan bilgiler:\n",
        "sisKulAdi = \"yonetici\"\n",
        "sisKulSifre = \"bby162\"\n",
        "\n",
        "#Klavyeden girilen bilgiler:\n",
        "girKulAdi = input(\"Kullanıcı Adı: \")\n",
        "girKulSifre = input(\"Şifre: \")\n",
        "\n",
        "#Kontrol\n",
        "sonuc= sisKulAdi and sisKulSifre\n",
        "#Sonuç\n",
        "print(sonuc)"
      ],
      "execution_count": 0,
      "outputs": [
        {
          "output_type": "stream",
          "text": [
            "Kullanıcı Adı: yönetici\n",
            "Şifre: bby162\n",
            "bby162\n"
          ],
          "name": "stdout"
        }
      ]
    },
    {
      "cell_type": "markdown",
      "metadata": {
        "id": "rd-bsVch9Dxb",
        "colab_type": "text"
      },
      "source": [
        "## If Cümleciği\n",
        "\"If\" anahtar sözcüğü, verilen ifadenin doğru olup olmadığını kontrol ettikten sonra belirtilen kodu çalıştıran bir koşullu ifade oluşturmak için kullanılır. Python'da kod bloklarının tanımlanması için girinti kullanır."
      ]
    },
    {
      "cell_type": "markdown",
      "metadata": {
        "id": "3Cba5E7H976e",
        "colab_type": "text"
      },
      "source": [
        "**Örnek Uygulama**"
      ]
    },
    {
      "cell_type": "markdown",
      "metadata": {
        "id": "VujnXgWV-B_u",
        "colab_type": "text"
      },
      "source": [
        "\n",
        "\n",
        "```\n",
        "acikKavramlar = [\"bilim\", \"erişim\", \"veri\", \"eğitim\"]\n",
        "kavram = input(\"Bir açık kavramı yazın: \")\n",
        "if kavram in acikKavramlar:\n",
        "  print(kavram + \" açık kavramlar listesinde yer alıyor!\")\n",
        "```\n",
        "\n"
      ]
    },
    {
      "cell_type": "markdown",
      "metadata": {
        "id": "mwAnF_eiHj-g",
        "colab_type": "text"
      },
      "source": [
        "**Görev:** \"acikSozluk\" içinde yer alan anahtarları (keys) kullanarak eğer klavyeden girilen anahtar kelime sözlükte varsa açıklamasını ekrana yazdırın!"
      ]
    },
    {
      "cell_type": "code",
      "metadata": {
        "id": "-Knt3IBI_BRm",
        "colab_type": "code",
        "outputId": "333486eb-e651-4dc6-debe-a87669ec6574",
        "colab": {
          "base_uri": "https://localhost:8080/",
          "height": 52
        }
      },
      "source": [
        "acikSozluk = {\n",
        "    \"Açık Bilim\" : \"Bilimsel bilgi kamu malıdır. Bilimsel yayınlara ve verilere açık erişim bir haktır.\" ,\n",
        "    \"Açık Erişim\" : \"Kamu kaynakları ile yapılan araştırmalar sonucunda üretilen yayınlara ücretsiz erişim\" ,\n",
        "    \"Açık Veri\" : \"Kamu kaynakları ile yapılan araştırma sonucunda üretilen verilere ücretsiz ve yeniden kullanılabilir biçimde erişim\" \n",
        "    }\n",
        "anahtar = input(\"Anahtar Kelime: \")\n",
        "\n",
        "#If\n",
        "if anahtar in acikSozluk:\n",
        "  print(anahtar + \" sözlük içinde var\")"
      ],
      "execution_count": 0,
      "outputs": [
        {
          "output_type": "stream",
          "text": [
            "Anahtar Kelime: Açık Veri\n",
            "Açık Veri sözlük içinde var\n"
          ],
          "name": "stdout"
        }
      ]
    },
    {
      "cell_type": "markdown",
      "metadata": {
        "id": "gBj0pSOoLvWu",
        "colab_type": "text"
      },
      "source": [
        "## Else ve Elif Kullanımı\n",
        "\"If\" cümleciği içinde ikinci bir ifadenin doğruluğunun kontrolü için \"Elif\" ifadesi kullanılır. Doğruluğu sorgulanan ifadelerden hiçbiri *True* döndürmediği zaman çalışacak olan kod bloğu \"Else\" altında yer alan kod bloğudur. "
      ]
    },
    {
      "cell_type": "markdown",
      "metadata": {
        "id": "B6Dc3QHlMcRF",
        "colab_type": "text"
      },
      "source": [
        "**Örnek Uygulama**"
      ]
    },
    {
      "cell_type": "markdown",
      "metadata": {
        "id": "k-jKSvQcMeu6",
        "colab_type": "text"
      },
      "source": [
        "\n",
        "\n",
        "```\n",
        "gunler = [\"Pazartesi\", \"Çarşamba\", \"Cuma\"]\n",
        "girilen = input(\"Gün giriniz: \")\n",
        "if girilen == gunler[0]:\n",
        "  print(\"Programlama Dilleri\")\n",
        "elif girilen == gunler[1]:\n",
        "  print(\"Kataloglama\")\n",
        "elif girilen == gunler[2]:\n",
        "  print(\"Bilimsel İletişim\")\n",
        "else :\n",
        "  print(\"Kayıtlı bir gün bilgisi girmediniz!\")\n",
        "```\n",
        "\n"
      ]
    },
    {
      "cell_type": "markdown",
      "metadata": {
        "id": "5JzZRGxWr3Sm",
        "colab_type": "text"
      },
      "source": [
        "**Görev:** Klavyeden girilen yaş bilgisini kullanarak ekrana aşağıdaki mesajları yazdır:\n",
        "\n",
        "*   21 yaş altı ve 64 yaş üstü kişilere: \"Sokağa çıkma yasağı bulunmaktadır!\"\n",
        "*   Diğer tüm kişilere: \"Sokağa çıkma yasağı yoktur!\"\n",
        "*   Klavyeden yaş harici bir bilgi girişi yapıldığında: \"Yaşınızı rakam olarak giriniz!\""
      ]
    },
    {
      "cell_type": "code",
      "metadata": {
        "id": "vEFr1ub_thtK",
        "colab_type": "code",
        "outputId": "1b4d8f6e-82bb-4bfe-911f-1a591eb03bbf",
        "colab": {
          "base_uri": "https://localhost:8080/",
          "height": 52
        }
      },
      "source": [
        "yas = int(input(\"Yaşınızı giriniz: \"))\n",
        "if yas <21 or yas >65:\n",
        "  print(\"sokağa çıkma yasağı bulunmaktadır!\")\n",
        "elif yas >21 or yas <65:\n",
        "  print(\"sokaga çıkma yasağı yoktur\")\n",
        "else:\n",
        "  print(\"yaşınızı rakam olarak yazınız\")\n",
        "\n"
      ],
      "execution_count": 0,
      "outputs": [
        {
          "output_type": "stream",
          "text": [
            "Yaşınızı giriniz: 98\n",
            "sokağa çıkma yasağı bulunmaktadır!\n"
          ],
          "name": "stdout"
        }
      ]
    },
    {
      "cell_type": "markdown",
      "metadata": {
        "id": "mLq4XzRPHdHl",
        "colab_type": "text"
      },
      "source": [
        "# Bölüm 06: Döngüler\n",
        "\n",
        "Bu bölümde:\n",
        "\n",
        "*   for döngüsü,\n",
        "*   Metin katarlarında for döngüsü kullanımı,\n",
        "*   while döngüsü,\n",
        "*   break anahtar kelimesi,\n",
        "*   continue anahtar kelimesi yer almaktadır.\n",
        "\n"
      ]
    },
    {
      "cell_type": "markdown",
      "metadata": {
        "id": "yuku4yibHvy5",
        "colab_type": "text"
      },
      "source": [
        "## for Döngüsü\n",
        "for döngüleri belirli komut satırını ya da satırlarını yinelemek (tekrar etmek) için kullanılır. Her yinelemede, for döngüsünde tanımlanan değişken listedeki bir sonraki değere otomatik olarak atanacaktır."
      ]
    },
    {
      "cell_type": "markdown",
      "metadata": {
        "id": "JjwFU3rcIfzO",
        "colab_type": "text"
      },
      "source": [
        "**Örnek Uygulama**\n",
        "\n",
        "```\n",
        "for i in range(5):  # i değerine 0-4 arası indeks değerleri otomatik olarak atanır\n",
        "    print(i)  # Çıktı: Bu komut satırı toplam 5 kere tekrarlanır ve her satırda yeni i değeri yazdırılır\n",
        "\n",
        "\n",
        "konular = [\"Açık Bilim\", \"Açık Erişim\", \"Açık Veri\"]   # yeni bir liste oluşturur\n",
        "\n",
        "for konu in konular:\n",
        "    print(konu) #Çıktı: Her bir liste öğesi alt alta satırlara yazdırılır\n",
        "\n",
        "```\n",
        "\n"
      ]
    },
    {
      "cell_type": "code",
      "metadata": {
        "id": "ZIm4g511cyvz",
        "colab_type": "code",
        "colab": {}
      },
      "source": [
        "# Örnek uygulmayı çalıştır\n",
        "\n",
        "for i in range(5):\n",
        "    print(i)"
      ],
      "execution_count": 0,
      "outputs": []
    },
    {
      "cell_type": "code",
      "metadata": {
        "id": "Uikl2CnDc8rE",
        "colab_type": "code",
        "colab": {}
      },
      "source": [
        "# Örnek uygulmayı çalıştır\n",
        "\n",
        "konular = [\"Açık Bilim\", \"Açık Erişim\", \"Açık Veri\"]\n",
        "\n",
        "for konu in konular:\n",
        "    print(konu)"
      ],
      "execution_count": 0,
      "outputs": []
    },
    {
      "cell_type": "markdown",
      "metadata": {
        "id": "cbpRcW1aKFYu",
        "colab_type": "text"
      },
      "source": [
        "**Görev:** Bir liste oluşturun. Liste öğelerini \"for\" döngüsü kullanarak ekrana yazdırın!"
      ]
    },
    {
      "cell_type": "code",
      "metadata": {
        "id": "ry1L7GJ_J_wZ",
        "colab_type": "code",
        "outputId": "ff209356-d9ee-43b9-8112-b3ae38d0ee49",
        "colab": {
          "base_uri": "https://localhost:8080/",
          "height": 86
        }
      },
      "source": [
        "#liste\n",
        "mevsimler =[\"sonbahar\", \"kıs\", \"ilkbahar\", \"yaz\"]\n",
        "for i in mevsimler:\n",
        "  print(i)"
      ],
      "execution_count": 0,
      "outputs": [
        {
          "output_type": "stream",
          "text": [
            "sonbahar\n",
            "kıs\n",
            "ilkbahar\n",
            "yaz\n"
          ],
          "name": "stdout"
        }
      ]
    },
    {
      "cell_type": "markdown",
      "metadata": {
        "id": "rHicjY1WKk5o",
        "colab_type": "text"
      },
      "source": [
        "## Metin Katarlarında for Döngüsü Kullanımı\n",
        "Metin Katarları üzerinde gerçekleştirilebilecek işlemler Python'daki listelerle büyük benzerlik taşırlar. Metin Katarını oluşturan öğeler (harfler) liste elemanları gibi \"for\" döngüsü yardımıyla ekrana yazdırılabilir. "
      ]
    },
    {
      "cell_type": "markdown",
      "metadata": {
        "id": "UlkXx7vOLdhn",
        "colab_type": "text"
      },
      "source": [
        "**Örnek Uygulama**\n",
        "\n",
        "```\n",
        "cumle = \"Bisiklet hem zihni hem bedeni dinç tutar!\"\n",
        "\n",
        "for harf in cumle:    # Cümledeki her bir harfi ekrana satır satır yazdırır\n",
        "    print(harf)\n",
        "```\n",
        "\n"
      ]
    },
    {
      "cell_type": "code",
      "metadata": {
        "id": "VLDA2SWAdUHz",
        "colab_type": "code",
        "colab": {}
      },
      "source": [
        "# Örnek uygulamayı çalıştır\n",
        "\n",
        "cumle = \"Bisiklet hem zihni, hem bedeni dinç tutar!\"\n",
        " \n",
        "for harf in cumle:\n",
        "    print(harf)"
      ],
      "execution_count": 0,
      "outputs": []
    },
    {
      "cell_type": "markdown",
      "metadata": {
        "id": "y_7DFSavMJO4",
        "colab_type": "text"
      },
      "source": [
        "**Görev:** İçinde metin katarı bulunan bir değişken oluşturun. Bu değişkende yer alan her bir harfi bir satıra gelecek şekilde \"for\" döngüsü ile ekrana yazdırın!"
      ]
    },
    {
      "cell_type": "code",
      "metadata": {
        "id": "83a-E21mMEUr",
        "colab_type": "code",
        "outputId": "c138daa5-ca8e-4572-88ca-062d7485e06f",
        "colab": {
          "base_uri": "https://localhost:8080/",
          "height": 450
        }
      },
      "source": [
        "#degisken\n",
        "deyim =\"damlaya damlaya göl olur!\"\n",
        "for harf in deyim:\n",
        "  print (harf)\n"
      ],
      "execution_count": 0,
      "outputs": [
        {
          "output_type": "stream",
          "text": [
            "d\n",
            "a\n",
            "m\n",
            "l\n",
            "a\n",
            "y\n",
            "a\n",
            " \n",
            "d\n",
            "a\n",
            "m\n",
            "l\n",
            "a\n",
            "y\n",
            "a\n",
            " \n",
            "g\n",
            "ö\n",
            "l\n",
            " \n",
            "o\n",
            "l\n",
            "u\n",
            "r\n",
            "!\n"
          ],
          "name": "stdout"
        }
      ]
    },
    {
      "cell_type": "markdown",
      "metadata": {
        "id": "mSp_IsCyM7Ed",
        "colab_type": "text"
      },
      "source": [
        "## while Döngüsü\n",
        "\"While\" döngüsü \"if\" cümleciğinin ifade şekline benzer. Koşul doğruysa döngüye bağlı kod satırı ya da satırları yürütülür (çalıştırılır). Temel fark, koşul doğru (True) olduğu olduğu sürece bağlı kod satırı ya da satırları çalışmaya devam eder."
      ]
    },
    {
      "cell_type": "markdown",
      "metadata": {
        "id": "O0pVXw8jOGjc",
        "colab_type": "text"
      },
      "source": [
        "**Örnek Uygulama**\n",
        "\n",
        "```\n",
        "deger = 1\n",
        "\n",
        "while deger <= 10:\n",
        "    print(deger)    # Bu satır 10 kez tekrarlanacak\n",
        "    deger += 1      # Bu satır da 10 kez tekrarlanacak\n",
        "\n",
        "print(\"Program bitti\")  # Bu satır sadece bir kez çalıştırılacak\n",
        "```\n",
        "\n"
      ]
    },
    {
      "cell_type": "code",
      "metadata": {
        "id": "GTRNt3f4dxaZ",
        "colab_type": "code",
        "colab": {}
      },
      "source": [
        "# Örnek uygulamayı çalıştır\n",
        "\n",
        "deger = 1\n",
        "\n",
        "while deger <= 10:\n",
        "    print(deger)\n",
        "    deger += 1\n",
        "    \n",
        "print(\"Program bitti\")"
      ],
      "execution_count": 0,
      "outputs": []
    },
    {
      "cell_type": "markdown",
      "metadata": {
        "id": "CBGdLeJbSEev",
        "colab_type": "text"
      },
      "source": [
        "## break Anahtar Kelimesi\n",
        "Asla bitmeyen döngüye sonsuz döngü adı verilir. Döngü koşulu daima doğru (True) olursa, böyle bir döngü sonsuz olur. \"Break\" anahtar kelimesi geçerli döngüden çıkmak için kullanılır."
      ]
    },
    {
      "cell_type": "markdown",
      "metadata": {
        "id": "ihLhjXWcSnv8",
        "colab_type": "text"
      },
      "source": [
        "**Örnek Uygulama**\n",
        "\n",
        "```\n",
        "sayi = 0\n",
        "\n",
        "while True:  # bu döngü sonsuz bir döngüdür\n",
        "    print(sayi)\n",
        "    sayi += 1\n",
        "    if sayi >= 5:\n",
        "        break   # sayı değeri 5 olduğunda döngü otomatik olarak sonlanır\n",
        "```\n",
        "\n"
      ]
    },
    {
      "cell_type": "code",
      "metadata": {
        "colab_type": "code",
        "id": "xXDmHHe2TVLJ",
        "colab": {
          "base_uri": "https://localhost:8080/",
          "height": 104
        },
        "outputId": "493d8271-fbb7-4db5-bf97-26da8687754c"
      },
      "source": [
        "# Örnek Uygulamayı çalıştır\n",
        "\n",
        "sayi = 0\n",
        "\n",
        "while True:\n",
        "    print(sayi)\n",
        "    sayi += 1\n",
        "    if sayi >= 5:\n",
        "        break"
      ],
      "execution_count": 35,
      "outputs": [
        {
          "output_type": "stream",
          "text": [
            "0\n",
            "1\n",
            "2\n",
            "3\n",
            "4\n"
          ],
          "name": "stdout"
        }
      ]
    },
    {
      "cell_type": "markdown",
      "metadata": {
        "id": "ySFedvaOTqjR",
        "colab_type": "text"
      },
      "source": [
        "## continue Anahtar Kelimesi\n",
        "\"continue\" anahtar kelimesi, o anda yürütülen döngü için döngü içindeki kodun geri kalanını atlamak ve \"for\" veya \"while\" deyimine geri dönmek için kullanılır."
      ]
    },
    {
      "cell_type": "markdown",
      "metadata": {
        "id": "Ge8XX1mbT0Me",
        "colab_type": "text"
      },
      "source": [
        "\n",
        "\n",
        "```\n",
        "for i in range(5):\n",
        "    if i == 3:\n",
        "        continue   # i değeri 3 olduğu anda altta yer alan \"print\" komutu atlanıyor.\n",
        "    print(i)\n",
        "```\n",
        "\n"
      ]
    },
    {
      "cell_type": "code",
      "metadata": {
        "id": "8kRu3DpFT4pe",
        "colab_type": "code",
        "colab": {
          "base_uri": "https://localhost:8080/",
          "height": 86
        },
        "outputId": "7f8e5f18-11ff-468e-c1ef-a0051b3d9b1d"
      },
      "source": [
        "# Örnek Uygulamayı çalıştır\n",
        "\n",
        "for i in range(5):\n",
        "    if i == 3:\n",
        "        continue\n",
        "    print(i)"
      ],
      "execution_count": 36,
      "outputs": [
        {
          "output_type": "stream",
          "text": [
            "0\n",
            "1\n",
            "2\n",
            "4\n"
          ],
          "name": "stdout"
        }
      ]
    },
    {
      "cell_type": "markdown",
      "metadata": {
        "id": "bvvGF4PTO3MX",
        "colab_type": "text"
      },
      "source": [
        "**Görev: Tahmin Oyunu**\n",
        "\n",
        "\"while\" döngüsü kullanarak bir tahmin oyunu tasarla. Bu tahmin oyununda, önceden belirlenmiş olan kelime ile klavyeden girilen kelime karşılaştırılmalı, tahmin doğru ise oyun \"Bildiniz..!\" mesajı ile sonlanmalı, yanlış ise tahmin hakkı bir daha verilmeli."
      ]
    },
    {
      "cell_type": "code",
      "metadata": {
        "id": "gxDpnBUkkPEc",
        "colab_type": "code",
        "colab": {}
      },
      "source": [
        "from random import randint\n",
        " \n",
        "rand=randint(1, 100)\n",
        "sayac=0\n",
        " \n",
        "while True:\n",
        "    sayac+=1\n",
        "    sayi=int(input(\"1 ile 100 arasında değer girin (0 çıkış):\"))\n",
        "    if(sayi==0):\n",
        "        print(\"oyunu kapattınız\")\n",
        "        break\n",
        "    elif sayi < rand:\n",
        "        print(\"girdiğiniz değerden daha yüksek bir sayı giriniz\")\n",
        "        continue\n",
        "    elif sayi > rand:\n",
        "        print(\"girdiğiniz değerden daha düşükbir sayı giriniz.\")\n",
        "        continue\n",
        "    else:\n",
        "        print(\"Rastele seçilen sayı {0}!\".format(rand))\n",
        "        print(\"Tahmin sayınız {0}\".format(sayac))"
      ],
      "execution_count": 0,
      "outputs": []
    },
    {
      "cell_type": "markdown",
      "metadata": {
        "id": "yWfAoCUc-D9d",
        "colab_type": "text"
      },
      "source": [
        "# Bölüm 07: Fonksiyonlar"
      ]
    },
    {
      "cell_type": "markdown",
      "metadata": {
        "id": "YJrL9elb-LvL",
        "colab_type": "text"
      },
      "source": [
        "## Fonksiyon Tanımlama (Definition)\n",
        "Fonksiyonlar, yazılan kodu faydalı bloklara bölmenin, daha okunabilir hale getirmenin ve tekrar kullanmaya yardımcı olmanın kullanışlı bir yoludur. Fonksiyonlar \"def\" anahtar sözcüğü ve ardından fonksiyonun adı kullanılarak tanımlanır."
      ]
    },
    {
      "cell_type": "markdown",
      "metadata": {
        "id": "AY162tKL-6Nd",
        "colab_type": "text"
      },
      "source": [
        "**Örnek Uygulama**\n",
        "\n",
        "```\n",
        "def merhaba_dunya():  # fonksiyon tanımlama, isimlendirme\n",
        "    print(\"Merhaba Dünya!\") #fonksiyona dahil kod satırları\n",
        "\n",
        "for i in range(5):\n",
        "    merhaba_dunya()   # fonksiyon 5 kere çağırılacak\n",
        "```\n",
        "\n"
      ]
    },
    {
      "cell_type": "code",
      "metadata": {
        "id": "iwMnSTNMevh8",
        "colab_type": "code",
        "colab": {}
      },
      "source": [
        "# Örnek uygulamayı çalıştır\n",
        "\n",
        "def merhaba_dunya():  # fonksiyon tanımlama, isimlendirme\n",
        "    print(\"Merhaba Dünya!\") #fonksiyona dahil kod satırları\n",
        "\n",
        "for i in range(5):\n",
        "    merhaba_dunya()   # fonksiyon 5 kere çağırılacak"
      ],
      "execution_count": 0,
      "outputs": []
    },
    {
      "cell_type": "markdown",
      "metadata": {
        "id": "UnHQO9MR_pII",
        "colab_type": "text"
      },
      "source": [
        "##Fonksiyolarda Parametre Kullanımı\n",
        "Fonksiyon parametreleri, fonksiyon adından sonra parantez () içinde tanımlanır. Parametre, iletilen bağımsız değişken için değişken adı görevi görür."
      ]
    },
    {
      "cell_type": "markdown",
      "metadata": {
        "id": "IDgYf17j_4fu",
        "colab_type": "text"
      },
      "source": [
        "**Örnek Uygulama**\n",
        "\n",
        "```\n",
        "def foo(x):    # x bir fonksiyon parametresidir\n",
        "    print(\"x = \" + str(x))\n",
        "\n",
        "foo(5)   # 5 değeri fonksiyona iletilir ve değer olarak kullanılır.\n",
        "```\n",
        "\n"
      ]
    },
    {
      "cell_type": "code",
      "metadata": {
        "id": "i2IW-s8wfB3e",
        "colab_type": "code",
        "colab": {}
      },
      "source": [
        "# Örnek uygulamayı çalıştır\n",
        "\n",
        "def foo(x):\n",
        "    print(\"x = \" + str(x))\n",
        "\n",
        "foo(5)"
      ],
      "execution_count": 0,
      "outputs": []
    },
    {
      "cell_type": "markdown",
      "metadata": {
        "id": "53DY9zKcgPHD",
        "colab_type": "text"
      },
      "source": [
        "**Görev:** *karsila* fonksiyonunun tetiklenmesi için gerekli kod ve parametleri ekle!"
      ]
    },
    {
      "cell_type": "code",
      "metadata": {
        "id": "BKerIDjcpfyE",
        "colab_type": "code",
        "outputId": "42be9a7e-7d78-49ba-86a8-22f151ba75b6",
        "colab": {
          "base_uri": "https://localhost:8080/",
          "height": 34
        }
      },
      "source": [
        "def karsila(kAd, kSoyad):\n",
        "  print(\"Hoşgeldin, %s %s\" % (kAd, kSoyad))\n",
        "karsila(\"cansel\",\"kundukan\")\n"
      ],
      "execution_count": 28,
      "outputs": [
        {
          "output_type": "stream",
          "text": [
            "Hoşgeldin, cansel kundukan\n"
          ],
          "name": "stdout"
        }
      ]
    },
    {
      "cell_type": "markdown",
      "metadata": {
        "id": "LKBMne6BAhid",
        "colab_type": "text"
      },
      "source": [
        "##Return Değeri\n",
        "Fonksiyonlar, \"return\" anahtar sözcüğünü kullanarak fonksiyon sonucunda bir değer döndürebilir. Döndürülen değer bir değişkene atanabilir veya sadece örneğin değeri yazdırmak için kullanılabilir."
      ]
    },
    {
      "cell_type": "markdown",
      "metadata": {
        "id": "fJuWpMooBV0x",
        "colab_type": "text"
      },
      "source": [
        "**Örnek Uygulama**\n",
        "\n",
        "```\n",
        "def iki_sayi_topla(a, b):\n",
        "    return a + b    # hesaplama işleminin sonucu değer olarak döndürülüyor\n",
        "\n",
        "print(iki_sayi_topla(3, 12))  # ekrana işlem sonucu yazdırılacak\n",
        "```\n",
        "\n"
      ]
    },
    {
      "cell_type": "code",
      "metadata": {
        "colab_type": "code",
        "id": "xRukn_KfrsA3",
        "colab": {}
      },
      "source": [
        "# Örnek uygulamayı çalıştır\n",
        "\n",
        "def iki_sayi_topla(a, b):\n",
        "    return a + b\n",
        "\n",
        "print(iki_sayi_topla(3, 12))"
      ],
      "execution_count": 0,
      "outputs": []
    },
    {
      "cell_type": "markdown",
      "metadata": {
        "id": "FXXW68lICB7S",
        "colab_type": "text"
      },
      "source": [
        "##Varsayılan Parametreler\n",
        "Bazen bir veya daha fazla fonksiyon parametresi için varsayılan bir değer belirtmek yararlı olabilir. Bu, ihtiyaç duyulan parametrelerden daha az argümanla çağrılabilen bir fonksiyon oluşturur."
      ]
    },
    {
      "cell_type": "markdown",
      "metadata": {
        "id": "fCHKSZpcCglT",
        "colab_type": "text"
      },
      "source": [
        "**Örnek Uygulama**\n",
        "\n",
        "```\n",
        "def iki_sayi_carp(a, b=2):\n",
        "    return a * b\n",
        "\n",
        "print(iki_sayi_carp(3, 47)) # verilen iki degeri de kullanır \n",
        "print(iki_sayi_carp(3))    # verilmeyen 2. değer yerine varsayılanı kullanır\n",
        "```\n",
        "\n"
      ]
    },
    {
      "cell_type": "code",
      "metadata": {
        "id": "Gy_5nrP6hHOR",
        "colab_type": "code",
        "colab": {}
      },
      "source": [
        "# Örnek uygulamayı çalıştır\n",
        "\n",
        "def iki_sayi_carp(a, b=2):\n",
        "    return a * b\n",
        "\n",
        "print(iki_sayi_carp(3, 47))\n",
        "print(iki_sayi_carp(3))"
      ],
      "execution_count": 0,
      "outputs": []
    },
    {
      "cell_type": "markdown",
      "metadata": {
        "id": "8iTlloLEh59b",
        "colab_type": "text"
      },
      "source": [
        "**Örnek Uygulama: Sayısal Loto**\n",
        "\n",
        "Aşağıda temel yapısı aynı olan iki *sayısal loto* uygulaması bulunmaktadır: Fonksiyonsuz ve fonksiyonlu.\n",
        "\n",
        "İlk sayısal loto uygulamasında herhangi bir fonksiyon kullanımı yoktur. Her satırda 1-49 arası 6 adet sayının yer aldığı 6 satır oluşturur.\n",
        "\n",
        "İkinci sayısal loto uygulamsında ise *tahminEt* isimli bir fonksiyon yer almaktadır. Bu fonksiyon varsayılan parametrelere sahiptir ve bu parametreler fonksiyon çağırılırken değiştirilebilir. Böylece ilk uygulamadan çok daha geniş seçenekler sunabilir bir hale gelmiştir.\n",
        "\n"
      ]
    },
    {
      "cell_type": "code",
      "metadata": {
        "id": "W4Z_Rgl_hq1t",
        "colab_type": "code",
        "colab": {}
      },
      "source": [
        "#Sayısal Loto örnek uygulama (fonksiyonsuz)\n",
        "\n",
        "from random import randint\n",
        "i = 0\n",
        "secilenler = [0,0,0,0,0,0]\n",
        "for rastgele in secilenler:\n",
        "    while i < len(secilenler):\n",
        "        secilen = randint(1, 49)\n",
        "        if secilen not in secilenler:\n",
        "            secilenler[i] = secilen\n",
        "            i+=1\n",
        "    print(sorted(secilenler))\n",
        "    i=0"
      ],
      "execution_count": 0,
      "outputs": []
    },
    {
      "cell_type": "code",
      "metadata": {
        "id": "PRtF6Bd_b2Xg",
        "colab_type": "code",
        "colab": {}
      },
      "source": [
        "#Sayısal Loto örnek uygulama (fonksiyonlu)\n",
        "\n",
        "from random import randint\n",
        "def tahminEt(rakam=6, satir=6, baslangic=1, bitis=49):\n",
        "  i = 0\n",
        "  secilenler = []\n",
        "  for liste in range(rakam):\n",
        "    secilenler.append(0)\n",
        "  for olustur in range(satir):\n",
        "      while i < len(secilenler):\n",
        "          secilen = randint(baslangic, bitis)\n",
        "          if secilen not in secilenler:\n",
        "              secilenler[i] = secilen\n",
        "              i+=1\n",
        "      print(sorted(secilenler))\n",
        "      i=0\n",
        "tahminEt(10,6,1,60)"
      ],
      "execution_count": 0,
      "outputs": []
    },
    {
      "cell_type": "markdown",
      "metadata": {
        "id": "lpT_y9p9DB_U",
        "colab_type": "text"
      },
      "source": [
        "**Görev:** Bu görev genel olarak fonksiyon bölümünü kapsamaktadır.\n",
        "\n",
        "Daha önce yapmış olduğunuz \"Adam Asmaca\" projesini (ya da aşağıda yer alan örneği) fonksiyonlar kullanarak oyun bittiğinde tekrar başlatmaya gerek duyulmadan yeniden oynanabilmesine imkan sağlayacak şekilde yeniden kurgulayın.\n",
        "\n",
        "Oyunun farklı sekansları için farklı fonksiyonlar tanımlayarak oyunu daha optimize hale getirmeye çalışın.\n",
        "\n",
        "Aşağıda bir adam asmaca oyununun temel özellikerine sahip bir örnek yer almaktadır.\n",
        "\n"
      ]
    },
    {
      "cell_type": "code",
      "metadata": {
        "colab_type": "code",
        "id": "aPxS3byjrjEN",
        "colab": {}
      },
      "source": [
        "#fonksiyonsuz adam asmaca\n",
        "import random\n",
        "kelimeler =([\"ayşe\",\"merve\",\"deniz\",\"melike\",\"bahar\"])\n",
        "\n",
        "hak = 3\n",
        "i=0\n",
        "\n",
        "secilenKelime=random.choice(kelimeler)\n",
        "girilenharfler =[]\n",
        "karakterGosterimi=\"_\"\n",
        "\n",
        "for kelime in secilenKelime:\n",
        "    girilenharfler.append(karakterGosterimi)\n",
        "print(girilenharfler)\n",
        "\n",
        "while hak>0:\n",
        "    alinanharf = input(\"Lütfen bir harf giriniz=\").lower()\n",
        "    if alinanharf in secilenKelime:\n",
        "        for kontrol in secilenKelime:\n",
        "            if alinanharf==secilenKelime[i]:\n",
        "                girilenharfler[i] = alinanharf\n",
        "            i +=1\n",
        "        print(girilenharfler)\n",
        "        i=0\n",
        "\n",
        "    kontrolEt= alinanharf in secilenKelime\n",
        "    if kontrolEt == False:\n",
        "        hak-=1\n",
        "    print(\"Kalan can sayınız=\", hak)\n",
        "    i=0\n",
        "\n",
        "    if hak == 0:\n",
        "     print(\"Oyunu kaybettiniz.Doğru kelime '{}' idi.\".format(secilenKelime))\n",
        "\n",
        "     break\n",
        "\n"
      ],
      "execution_count": 0,
      "outputs": []
    },
    {
      "cell_type": "markdown",
      "metadata": {
        "id": "Uocer9uZoa_6",
        "colab_type": "text"
      },
      "source": [
        "# Bölüm 08: Sınıflar ve Nesneler\n",
        "\n",
        "Bu bölümde:\n",
        "\n",
        "*   Sınıf ve nesne tanımlama,\n",
        "*   Değişkenlere erişim,\n",
        "*   self parametresi,\n",
        "*   init metodu yer almaktadır."
      ]
    },
    {
      "cell_type": "markdown",
      "metadata": {
        "id": "nSklAub4oh9p",
        "colab_type": "text"
      },
      "source": [
        "## Sınıf ve Nesne Tanımlama\n",
        "Bir nesne değişkenleri ve fonksiyonları tek bir varlıkta birleştirir. Nesneler değişkenlerini ve fonksiyonlarını sınıflardan alır. Sınıflar bir anlamda nesnelerinizi oluşturmak için kullanılan şablonlardır. Bir nesneyi, fonksiyonların yanı sıra veri içeren tek bir veri yapısı olarak düşünebilirsiniz. Nesnelerin fonksiyonlarına yöntem (metod) denir.\n",
        "\n",
        "**İpucu:** Sınıf isimlerinin baş harfi büyük yazılarak Python içindeki diğer öğelerden (değişken, fonksiyon vb.) daha rahat ayırt edilmeleri sağlanır."
      ]
    },
    {
      "cell_type": "markdown",
      "metadata": {
        "id": "ShzCIh8VpgM0",
        "colab_type": "text"
      },
      "source": [
        "**Örnek Uygulama**\n",
        "\n",
        "\n",
        "```\n",
        "class BenimSinifim: # yeni bir sınıfın tanımlanması\n",
        "    \n",
        "    bsDegisken = 4  # sınıf içinde yer alan bir değişken\n",
        "\n",
        "    def bsFonksiyon(self): #sınıf içinde yer alan bir fonksiyon\n",
        "        print(\"Benim sınıfımın fonksiyonundan Merhaba!\")\n",
        "\n",
        "benimNesnem = BenimSinifim()\n",
        "```\n",
        "\n"
      ]
    },
    {
      "cell_type": "markdown",
      "metadata": {
        "id": "5NwBvq6S0r4v",
        "colab_type": "text"
      },
      "source": [
        "##Değişkenlere ve Fonksiyonlara Erişim\n",
        "Sınıftan örneklenen bir nesnenin içindeki bir değişkene ya da fonksiyona erişmek için öncelikle nesnenin adı daha sonra ise değişkenin ya da fonkiyonun adı çağırılmalıdır (Ör: nesneAdi.degiskenAdi). Bir sınıfın farklı örnekleri (nesneleri) içinde tanımlanan değişkenlerin değerleri değiştirebilir."
      ]
    },
    {
      "cell_type": "markdown",
      "metadata": {
        "colab_type": "text",
        "id": "NAcj1XjQn89D"
      },
      "source": [
        "**Örnek Uygulama 1**\n",
        "\n",
        "\n",
        "```\n",
        "class BenimSinifim:   # yeni bir sınıf oluşturur\n",
        "    bsDegisken = 3    # sınıfın içinde bir değişken tanımlar\n",
        "    def bsFonksiyon(self):  #sınıfın içinde bir fonksiyon tanımlar\n",
        "        print(\"Benim sınıfımın fonksiyonundan Merhaba!\")\n",
        "\n",
        "benimNesnem = BenimSinifim()  #sınıftan yeni bir nesne oluşturur\n",
        "\n",
        "for i in range(benimNesnem.bsDegisken):  #  oluşturulan nesne üzerinden değişkene ve fonksiyona ulaşılır\n",
        "  benimNesnem.bsFonksiyon()\n",
        "\n",
        "benimNesnem.bsDegisken = 5  #  sınıfın içinde tanımlanan değişkene yeni değer atanması\n",
        "\n",
        "for i in range(benimNesnem.bsDegisken):\n",
        "  benimNesnem.bsFonksiyon()\n",
        "```\n",
        "\n"
      ]
    },
    {
      "cell_type": "code",
      "metadata": {
        "id": "LpNM7SptoLK-",
        "colab_type": "code",
        "colab": {}
      },
      "source": [
        "# Örnek uygulama 1'i gözlemleyelim\n",
        "\n",
        "class BenimSinifim:   \n",
        "    bsDegisken = 3\n",
        "    def bsFonksiyon(self):\n",
        "        print(\"Benim sınıfımın fonksiyonundan Merhaba!\")\n",
        "\n",
        "benimNesnem = BenimSinifim()\n",
        "\n",
        "for i in range(benimNesnem.bsDegisken):\n",
        "  benimNesnem.bsFonksiyon()\n",
        "\n",
        "benimNesnem.bsDegisken = 5\n",
        "\n",
        "for i in range(benimNesnem.bsDegisken):\n",
        "  benimNesnem.bsFonksiyon()"
      ],
      "execution_count": 0,
      "outputs": []
    },
    {
      "cell_type": "markdown",
      "metadata": {
        "id": "E0v9sloQ22oP",
        "colab_type": "text"
      },
      "source": [
        "**Örnek Uygulama 2**\n",
        "\n",
        "\n",
        "```\n",
        "class Bisiklet:\n",
        "    renk = \"Kırmızı\"\n",
        "    vites = 1\n",
        "    def ozellikler(self):\n",
        "        ozellikDetay = \"Bu bisiklet %s renkli ve %d viteslidir.\" % (self.renk, self.vites)\n",
        "        return ozellikDetay\n",
        "\n",
        "bisiklet1 = Bisiklet()\n",
        "bisiklet2 = Bisiklet()\n",
        "\n",
        "print(\"Bisiklet 1: \" + bisiklet1.ozellikler())\n",
        "\n",
        "bisiklet2.renk = \"Sarı\"\n",
        "bisiklet2.vites = 22\n",
        "\n",
        "print(\"Bisiklet 2: \" + bisiklet2.ozellikler())\n",
        "```\n",
        "\n"
      ]
    },
    {
      "cell_type": "code",
      "metadata": {
        "id": "RPIbXyYvrTlk",
        "colab_type": "code",
        "colab": {}
      },
      "source": [
        "# Örnek uygulama 2'i gözlemleyelim\n",
        "\n",
        "class Bisiklet:\n",
        "    renk = \"Kırmızı\"\n",
        "    vites = 1\n",
        "    def ozellikler(self):\n",
        "        ozellikDetay = \"Bu bisiklet %s renkli ve %d viteslidir.\" % (self.renk, self.vites)\n",
        "        return ozellikDetay\n",
        "\n",
        "bisiklet1 = Bisiklet()\n",
        "bisiklet2 = Bisiklet()\n",
        "\n",
        "print(\"Bisiklet 1: \" + bisiklet1.ozellikler())\n",
        "\n",
        "bisiklet2.renk = \"Sarı\"\n",
        "bisiklet2.vites = 22\n",
        "\n",
        "print(\"Bisiklet 2: \" + bisiklet2.ozellikler())"
      ],
      "execution_count": 0,
      "outputs": []
    },
    {
      "cell_type": "markdown",
      "metadata": {
        "id": "o8f-zk-y3KvD",
        "colab_type": "text"
      },
      "source": [
        "##self Parametresi\n",
        "\"self\" parametresi bir Python kuralıdır. \"self\", herhangi bir sınıf yöntemine iletilen ilk parametredir. Python, oluşturulan nesneyi belirtmek için self parametresini kullanır."
      ]
    },
    {
      "cell_type": "markdown",
      "metadata": {
        "id": "ZoxlmJep4C6j",
        "colab_type": "text"
      },
      "source": [
        "**Örnek Uygulama**\n",
        "\n",
        "Aşağıdaki örnek uygulamada **Bisiklet** sınıfının değişkenleri olan *renk* ve *bisiklet*, sınıf içindeki fonksiyonda **self** parametresi ile birlikte kullanılmaktadır. Bu kullanım şekli sınıftan oluşturulan nesnelerin tanımlanmış değişkenlere ulaşabilmeleri için gereklidir.\n",
        "```\n",
        "class Bisiklet:\n",
        "    renk = \"Kırmızı\"\n",
        "    vites = 1\n",
        "    def ozellikler(self):\n",
        "        ozellikDetay = \"Bu bisiklet %s renkli ve %d viteslidir.\" % (self.renk, self.vites)\n",
        "        return ozellikDetay\n",
        "```\n",
        "\n"
      ]
    },
    {
      "cell_type": "code",
      "metadata": {
        "id": "2gqeiPB9ys1l",
        "colab_type": "code",
        "colab": {}
      },
      "source": [
        "# Örnek uygulamada \"self\" tanımlaması yapılmadığı zaman döndürülen hata kodunu inceleyin\n",
        "\n",
        "class Bisiklet:\n",
        "    renk = \"Kırmızı\"\n",
        "    vites = 1\n",
        "    def ozellikler(self):\n",
        "        ozellikDetay = \"Bu bisiklet %s renkli ve %d viteslidir.\" % (renk, vites) #tanımlama eksik\n",
        "        return ozellikDetay\n",
        "\n",
        "bisiklet1 = Bisiklet()\n",
        "bisiklet2 = Bisiklet()\n",
        "\n",
        "print(\"Bisiklet 1: \" + bisiklet1.ozellikler())\n",
        "\n",
        "bisiklet2.renk = \"Sarı\"\n",
        "bisiklet2.vites = 22\n",
        "\n",
        "print(\"Bisiklet 2: \" + bisiklet2.ozellikler())"
      ],
      "execution_count": 0,
      "outputs": []
    },
    {
      "cell_type": "markdown",
      "metadata": {
        "id": "1B4iU-FI4wRy",
        "colab_type": "text"
      },
      "source": [
        "##__init__ Metodu\n",
        "__init__ fonksiyonu, oluşturduğu nesneleri başlatmak için kullanılır. init \"başlat\" ın kısaltmasıdır. __init__() her zaman yaratılan nesneye atıfta bulunan en az bir argüman alır: \"self\".\n"
      ]
    },
    {
      "cell_type": "markdown",
      "metadata": {
        "id": "FMtmqmiD44ZH",
        "colab_type": "text"
      },
      "source": [
        "**Örnek Uygulama**\n",
        "\n",
        "Aşağıdaki örnek uygulamada *sporDali* sınıfının içinde tanımlanan **init** fonksiyonu, sınıf oluşturulduğu anda çalışmaya başlamaktadır. Fonksiyonun ayrıca çağırılmasına gerek kalmamıştır.\n",
        "```\n",
        "class sporDali:\n",
        "  sporlar = [\"Yüzme\", \"Bisiklet\", \"Koşu\"]\n",
        "  def __init__(self):\n",
        "    for spor in self.sporlar:\n",
        "      print(spor + \" bir triatlon branşıdır.\")\n",
        "\n",
        "triatlon = sporDali()\n",
        "```\n",
        "\n"
      ]
    },
    {
      "cell_type": "code",
      "metadata": {
        "id": "5zwuicQu0wm7",
        "colab_type": "code",
        "colab": {}
      },
      "source": [
        "# Örnek uygulamayı çalıştır\n",
        "\n",
        "class sporDali:\n",
        "  sporlar = [\"Yüzme\", \"Bisiklet\", \"Koşu\"]\n",
        "  def __init__(self):\n",
        "    for spor in self.sporlar:\n",
        "      print(spor + \" bir triatlon branşıdır.\")\n",
        "\n",
        "triatlon = sporDali()"
      ],
      "execution_count": 0,
      "outputs": []
    },
    {
      "cell_type": "markdown",
      "metadata": {
        "id": "UbKP1Z_c0d9k",
        "colab_type": "text"
      },
      "source": [
        "#Bölüm 09: Modüller ve Paketler"
      ]
    },
    {
      "cell_type": "markdown",
      "metadata": {
        "id": "KyJG2zkhzLD7",
        "colab_type": "text"
      },
      "source": [
        "##Modülün İçe Aktarılması\n",
        "Python'daki modüller, Python tanımlarını (sınıflar, fonksiyonlar vb.) ve ifadelerini (değişkenler, listeler, sözlükler vb.) içeren .py uzantısına sahip Python dosyalarıdır.\n",
        "\n",
        "Modüller, *import* anahtar sözcüğü ve uzantı olmadan dosya adı kullanılarak içe aktarılır. Bir modül, çalışan bir Python betiğine ilk kez yüklendiğinde, modüldeki kodun bir kez çalıştırılmasıyla başlatılır."
      ]
    },
    {
      "cell_type": "markdown",
      "metadata": {
        "id": "15prWEGSz1SN",
        "colab_type": "text"
      },
      "source": [
        "**Örnek Uygulama**\n",
        "\n",
        "\n",
        "\n",
        "```\n",
        "#bisiklet.py adlı modülün içeriği\n",
        "\"\"\"\n",
        "Bu modül içinde Bisiklet sınıfı yer almaktadır.\n",
        "\"\"\"\n",
        "class Bisiklet:\n",
        "    renk = \"Kırmızı\"\n",
        "    vites = 1\n",
        "    def ozellikler(self):\n",
        "        ozellikDetay = \"Bu bisiklet %s renkli ve %d viteslidir.\" % (self.renk, self.vites)\n",
        "        return ozellikDetay\n",
        "```\n",
        "\n",
        "\n",
        "\n",
        "```\n",
        "#bisikletler.py adlı Python dosyasının içeriği\n",
        "\n",
        "import bisiklet\n",
        "\n",
        "bisiklet1 = bisiklet.Bisiklet()\n",
        "\n",
        "print(\"Bisiklet 1: \" + bisiklet1.ozellikler())\n",
        "\n",
        "```\n",
        "\n"
      ]
    },
    {
      "cell_type": "markdown",
      "metadata": {
        "id": "lmb0EwAx-xYG",
        "colab_type": "text"
      },
      "source": [
        "**PyCharm Örneği**\n",
        "\n",
        "\n",
        "![bisiklet.py](http://www.madran.net/wp-content/uploads/2020/05/bisikletPY.png) \n",
        "\n",
        "bisiklet.py\n",
        "\n",
        "\n",
        "\n",
        "---\n",
        "\n",
        "\n",
        "\n",
        "![alt text](http://www.madran.net/wp-content/uploads/2020/05/bisikletlerPY.png)\n",
        "\n",
        "bisikletler.py"
      ]
    },
    {
      "cell_type": "markdown",
      "metadata": {
        "id": "btdYo-btCCu5",
        "colab_type": "text"
      },
      "source": [
        "##Colab'de Modülün İçe Aktarılması\n",
        "\n",
        "Bir önceki bölümde (Modülün İçe Aktarılması) herhangi bir kişisel bilgisayarın sabit diski üzerinde çalışırken yerleşik olmayan (kendi yazdığımız) modülün içe aktarılması yer aldı.\n",
        "\n",
        "Bu bölümde ise Colab üzerinde çalışırken yerleşik olmayan bir modülü nasıl içe aktarılacağı yer almakta."
      ]
    },
    {
      "cell_type": "markdown",
      "metadata": {
        "colab_type": "text",
        "id": "4KYGmiV4EQwz"
      },
      "source": [
        "**Örnek Uygulama**\n",
        "\n",
        "Aşağıda içeriği görüntülenen *bisiklet.py* adlı Python dosyası Google Drive içerisinde \"BBY162_Python_a_Giris.ipynb\" dosyasının ile aynı klasör içinde bulunmaktadır.\n",
        "\n",
        "```\n",
        "#bisiklet.py adlı modülün içeriği\n",
        "\"\"\"\n",
        "Bu modül içinde Bisiklet sınıfı yer almaktadır.\n",
        "\"\"\"\n",
        "class Bisiklet:\n",
        "    renk = \"Kırmızı\"\n",
        "    vites = 1\n",
        "    def ozellikler(self):\n",
        "        ozellikDetay = \"Bu bisiklet %s renkli ve %d viteslidir.\" % (self.renk, self.vites)\n",
        "        return ozellikDetay\n",
        "```\n"
      ]
    },
    {
      "cell_type": "code",
      "metadata": {
        "id": "slM_q141DkRK",
        "colab_type": "code",
        "colab": {}
      },
      "source": [
        "# Google Drive'ın bir disk olarak görülmesi \n",
        "from google.colab import drive\n",
        "drive.mount('gdrive') # bağlanan diskin 'gdrive' adı ile tanımlanması.\n",
        "\n",
        "import sys # bağlanan diskin fiziksel yolunun tespit edilmesi ve bağlantı yoluna eklenmesi\n",
        "sys.path.append('/content/gdrive/My Drive/Colab Notebooks/BBY162 - Programlama ve Algoritmalar/')\n",
        "\n",
        "import bisiklet # bisiklet.py içerisindeki 'bisiklet' sınıfının içe aktarılması\n",
        "\n",
        "bisiklet1 = bisiklet.Bisiklet()\n",
        "print(\"Bisiklet 1: \" + bisiklet1.ozellikler())"
      ],
      "execution_count": 0,
      "outputs": []
    },
    {
      "cell_type": "markdown",
      "metadata": {
        "id": "tVPUaDwZBfrc",
        "colab_type": "text"
      },
      "source": [
        "##Yerleşik Modüller (built-in)\n",
        "Python aşağıdaki bağlantıda yer alan standart modüllerle birlikte gelir. Bu modüllerin *import* anahtar kelimesi ile çağrılması yeterlidir. Ayrıca bu modüllerin yüklenmesine gerek yoktur.\n",
        "\n",
        "[Python Standart Modülleri](https://docs.python.org/3/library/)"
      ]
    },
    {
      "cell_type": "markdown",
      "metadata": {
        "id": "1UvfkosdCOQW",
        "colab_type": "text"
      },
      "source": [
        "**Örnek Uygulama**\n",
        "\n",
        "\n",
        "```\n",
        "import datetime\n",
        "print(datetime.datetime.today())\n",
        "```\n",
        "\n"
      ]
    },
    {
      "cell_type": "code",
      "metadata": {
        "id": "CKTfLO0PH3mF",
        "colab_type": "code",
        "colab": {
          "base_uri": "https://localhost:8080/",
          "height": 34
        },
        "outputId": "48fe2a0f-cf92-4da3-db6d-5e38b9502845"
      },
      "source": [
        "# Örnek uygulamayı çalıştır \n",
        "\n",
        "import datetime\n",
        "print(datetime.datetime.today())"
      ],
      "execution_count": 29,
      "outputs": [
        {
          "output_type": "stream",
          "text": [
            "2020-05-28 18:14:20.646549\n"
          ],
          "name": "stdout"
        }
      ]
    },
    {
      "cell_type": "markdown",
      "metadata": {
        "id": "nqSNESNxDoVL",
        "colab_type": "text"
      },
      "source": [
        "##from import Kullanımı\n",
        "İçe aktarma ifadesinin bir başka kullanım şekli *from* anahtar kelimesinin kullanılmasıdır. *from* ifadesi ile modül adları paketin içinde alınarak direkt kullanıma hazır hale getirilir. Bu şekilde, içe aktarılan modül, modül_adı öneki olmadan doğrudan kullanılır."
      ]
    },
    {
      "cell_type": "markdown",
      "metadata": {
        "colab_type": "text",
        "id": "ccZnbUVLE9hg"
      },
      "source": [
        "**Örnek Uygulama**\n",
        "\n",
        "\n",
        "\n",
        "```\n",
        "#bisiklet.py adlı modülün içeriği\n",
        "\"\"\"\n",
        "Bu modül içinde Bisiklet sınıfı yer almaktadır.\n",
        "\"\"\"\n",
        "class Bisiklet:\n",
        "    renk = \"Kırmızı\"\n",
        "    vites = 1\n",
        "    def ozellikler(self):\n",
        "        ozellikDetay = \"Bu bisiklet %s renkli ve %d viteslidir.\" % (self.renk, self.vites)\n",
        "        return ozellikDetay\n",
        "```\n"
      ]
    },
    {
      "cell_type": "code",
      "metadata": {
        "colab_type": "code",
        "id": "HxSSqtqMIYpS",
        "colab": {}
      },
      "source": [
        "# Google Drive'ın bir disk olarak görülmesi \n",
        "from google.colab import drive\n",
        "drive.mount('gdrive') # bağlanan diskin 'gdrive' adı ile tanımlanması.\n",
        "\n",
        "import sys # bağlanan diskin fiziksel yolunun tespit edilmesi ve bağlantı yoluna eklenmesi\n",
        "sys.path.append('/content/gdrive/My Drive/Colab Notebooks/BBY162 - Programlama ve Algoritmalar/')\n",
        "\n",
        "from bisiklet import Bisiklet # bisiklet.py içerisindeki 'bisiklet' sınıfının içe aktarılması\n",
        "\n",
        "bisiklet1 = Bisiklet() # bisiklet ön tanımlamasına gerek kalmadı\n",
        "print(\"Bisiklet 1: \" + bisiklet1.ozellikler())"
      ],
      "execution_count": 0,
      "outputs": []
    },
    {
      "cell_type": "markdown",
      "metadata": {
        "id": "8s0bn98LFdh4",
        "colab_type": "text"
      },
      "source": [
        "#Bölüm 10: Dosya İşlemleri"
      ]
    },
    {
      "cell_type": "markdown",
      "metadata": {
        "id": "cTf7unkXFtRi",
        "colab_type": "text"
      },
      "source": [
        "##Dosya Okuma\n",
        "Python, bilgisayarınızdaki bir dosyadan bilgi okumak ve yazmak için bir dizi yerleşik fonksiyona sahiptir. **open** fonksiyonu bir dosyayı açmak için kullanılır. Dosya, okuma modunda (ikinci argüman olarak \"r\" kullanılarak) veya yazma modunda (ikinci argüman olarak \"w\" kullanılarak) açılabilir. **open** fonksiyonu dosya nesnesini döndürür. Dosyanın saklanması için kapatılması gerekir."
      ]
    },
    {
      "cell_type": "markdown",
      "metadata": {
        "id": "SV9N24JsRqbk",
        "colab_type": "text"
      },
      "source": [
        "**Örnek Uygulama**\n",
        "\n",
        "\n",
        "```\n",
        "#Google Drive Bağlantısı\n",
        "from google.colab import drive\n",
        "drive.mount('/gdrive')\n",
        "\n",
        "dosya = \"/gdrive/My Drive/Colab Notebooks/BBY162 - Programlama ve Algoritmalar/metin.txt\"\n",
        "\n",
        "f = open(dosya, \"r\") \n",
        "\n",
        "for line in f.readlines():\n",
        "    print(line)\n",
        "\n",
        "f.close()\n",
        "```\n",
        "\n",
        "Dosyanın sağlıklı şekilde okunabilmesi için Google Drive ile bağlantının kurulmuş olması ve okunacak dosyanın yolunun tam olarak belirtilmesi gerekmektedir.\n",
        "\n",
        "![Google Drive Colab Klasörü](http://www.madran.net/wp-content/uploads/2020/05/driveMetin.png)"
      ]
    },
    {
      "cell_type": "code",
      "metadata": {
        "id": "3KXhzd_FKMWt",
        "colab_type": "code",
        "colab": {}
      },
      "source": [
        "#Google Drive Bağlantısı\n",
        "from google.colab import drive\n",
        "drive.mount('/gdrive')\n",
        "\n",
        "dosya = \"/gdrive/My Drive/Colab Notebooks/BBY162 - Programlama ve Algoritmalar/metin.txt\"\n",
        "\n",
        "f = open(dosya, \"r\") \n",
        "\n",
        "for line in f.readlines():\n",
        "    print(line)\n",
        "\n",
        "f.close()"
      ],
      "execution_count": 0,
      "outputs": []
    },
    {
      "cell_type": "markdown",
      "metadata": {
        "id": "pToEIEVUR16I",
        "colab_type": "text"
      },
      "source": [
        "##Dosya Yazma\n",
        "Bir dosyayı ikinci argüman olarak \"w\" (yazma) kullanarak açarsanız, yeni bir boş dosya oluşturulur. Aynı ada sahip başka bir dosya varsa silineceğini unutmayın. Mevcut bir dosyaya içerik eklemek istiyorsanız \"a\" (ekleme) değiştiricisini kullanmalısınız."
      ]
    },
    {
      "cell_type": "markdown",
      "metadata": {
        "id": "aserUhlGcBVX",
        "colab_type": "text"
      },
      "source": [
        "**Örnek Uygulama**\n",
        "\n",
        "Aşağıdaki örnekte dosya 'w' parametresi ile açıldığı için var olan dosyanın içindekiler silinir ve yeni veriler dosyaya yazılır. Dosyanın içindeki verilerin kalması ve yeni verilerin eklenmesi isteniyorsa dosya 'a' parametresi ile açılmalıdır.\n",
        "\n",
        "```\n",
        "#Google Drive Bağlantısı\n",
        "from google.colab import drive\n",
        "drive.mount('/gdrive')\n",
        " \n",
        "dosya = \"/gdrive/My Drive/Colab Notebooks/BBY162 - Programlama ve Algoritmalar/cikti.txt\"\n",
        "\n",
        "f = open(dosya, 'w') # Mevcut veriye ek veri yazılması için parametre: 'a'\n",
        "f.write(\"test\") # Her yeni verinin bir alt satıra yazdırılması \"test\\n\"\n",
        "f.close()\n",
        "```\n",
        "\n",
        "Kod çalıştırıldıktan sonra eğer *cikti.txt* adında bir dosya yoksa otomatik olarak oluşturulur ve istenilen içerik yazılır.\n",
        "\n",
        "![Google Drive Colab Klasörü](http://www.madran.net/wp-content/uploads/2020/05/driveColab.png)"
      ]
    },
    {
      "cell_type": "code",
      "metadata": {
        "id": "JGu95coVKdTn",
        "colab_type": "code",
        "colab": {}
      },
      "source": [
        "#Google Drive Bağlantısı\n",
        "from google.colab import drive\n",
        "drive.mount('/gdrive')\n",
        " \n",
        "dosya = \"/gdrive/My Drive/Colab Notebooks/BBY162 - Programlama ve Algoritmalar/cikti.txt\"\n",
        "\n",
        "f = open(dosya, 'w') # Mevcut veriye ek veri yazılması için parametre: 'a'\n",
        "f.write(\"test\") # Her yeni verinin bir alt satıra yazdırılması \"test\\n\"\n",
        "f.close()"
      ],
      "execution_count": 0,
      "outputs": []
    }
  ]
}