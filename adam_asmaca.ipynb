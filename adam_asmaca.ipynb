{
  "nbformat": 4,
  "nbformat_minor": 0,
  "metadata": {
    "colab": {
      "name": "adam_asmaca.ipynb",
      "provenance": [],
      "authorship_tag": "ABX9TyNFxJlf0Nqg/5Y//CjAq2ee",
      "include_colab_link": true
    },
    "kernelspec": {
      "name": "python3",
      "display_name": "Python 3"
    }
  },
  "cells": [
    {
      "cell_type": "markdown",
      "metadata": {
        "id": "view-in-github",
        "colab_type": "text"
      },
      "source": [
        "<a href=\"https://colab.research.google.com/github/canselkundukan/bby162/blob/master/adam_asmaca.ipynb\" target=\"_parent\"><img src=\"https://colab.research.google.com/assets/colab-badge.svg\" alt=\"Open In Colab\"/></a>"
      ]
    },
    {
      "cell_type": "code",
      "metadata": {
        "id": "zg7VUYLC3-Mm",
        "colab_type": "code",
        "colab": {
          "base_uri": "https://localhost:8080/",
          "height": 609
        },
        "outputId": "4a85aac9-18c9-491c-d5d8-3639db0a8f12"
      },
      "source": [
        "\n",
        "__author__=\"CANSEL KUNDUKAN\"\n",
        "print(\"ADAM ASMACA OYUNUNA HOŞGELDİNİZ...\")\n",
        "print(\"ip ucu=Oyunumuz da ülke isimlerini bulmaya çalışıyoruz\")\n",
        "from random import choice\n",
        "while True:\n",
        "    kelime = choice ([\"ispanya\", \"almanya\",\"japonya\",\"ingiltere\",\"brezilya\",\"mısır\",\"macaristan\",\"hindistan\"])\n",
        "    kelime = kelime.upper()\n",
        "    harfsayisi = len(kelime)\n",
        "    print(\"Kelimemiz {} harflidir.\\n\".format(harfsayisi))\n",
        "    tahminler = []\n",
        "    hata = []\n",
        "    KalanCan = 3\n",
        "    while KalanCan > 0:\n",
        "        bos = \"\"\n",
        "        for girilenharf in kelime:\n",
        "            if girilenharf in tahminler:\n",
        "                bos = bos + girilenharf\n",
        "            else:\n",
        "                bos = bos + \" _ \"\n",
        "        if bos == kelime:\n",
        "            print(\"Tebrikler!\")\n",
        "            break\n",
        "        print(\"Kelimeyi Tahmin Ediniz\", bos)\n",
        "        print(KalanCan, \"Canınız Kaldı\")\n",
        "        Tahmin = input(\"Bir Harf Giriniz :\")\n",
        "        Tahmin = Tahmin.upper()\n",
        "        if Tahmin == kelime:\n",
        "            print(\"\\n\\n Tebrikler\\n\\n\")\n",
        "            break\n",
        "        elif Tahmin in kelime:\n",
        "            rpt = kelime.count(Tahmin)\n",
        "            print(\"Dogru.{0} Harfi Kelimemiz İçerisinde {1} Kere Geçiyor\".format(Tahmin, rpt))\n",
        "            tahminler.append(Tahmin)\n",
        "        else:\n",
        "            print(\"Yanlış.\")\n",
        "            hata.append(Tahmin)\n",
        "            KalanCan = KalanCan - 1\n",
        "    if KalanCan == 0:\n",
        "        print(\"\\n\\nHiç Hakkınız Kalmadı.\")\n",
        "        print(\"Kelimemiz {}\\n\\n\".format(kelime))\n",
        "    print(\"Oyundan Çıkmak İstiyorsanız\\n'X' Tuşuna Basınız\\nDevam Etmek İçin -> ENTER. \")\n",
        "    devam = input(\":\")\n",
        "    devam = devam.upper()\n",
        "    if devam == \"X\":\n",
        "        break\n",
        "    else:\n",
        "        continue"
      ],
      "execution_count": 0,
      "outputs": [
        {
          "output_type": "stream",
          "text": [
            "ADAM ASMACA OYUNUNA HOŞGELDİNİZ...\n",
            "ip ucu=Oyunumuz da ülke isimlerini bulmaya çalışıyoruz\n",
            "Kelimemiz 9 harflidir.\n",
            "\n",
            "Kelimeyi Tahmin Ediniz  _  _  _  _  _  _  _  _  _ \n",
            "3 Canınız Kaldı\n",
            "Bir Harf Giriniz :b\n",
            "Yanlış.\n",
            "Kelimeyi Tahmin Ediniz  _  _  _  _  _  _  _  _  _ \n",
            "2 Canınız Kaldı\n",
            "Bir Harf Giriniz :a\n",
            "Dogru.A Harfi Kelimemiz İçerisinde 1 Kere Geçiyor\n",
            "Kelimeyi Tahmin Ediniz  _  _  _  _  _  _  _ A _ \n",
            "2 Canınız Kaldı\n",
            "Bir Harf Giriniz :i\n",
            "Dogru.I Harfi Kelimemiz İçerisinde 2 Kere Geçiyor\n",
            "Kelimeyi Tahmin Ediniz  _ I _  _ I _  _ A _ \n",
            "2 Canınız Kaldı\n",
            "Bir Harf Giriniz :m\n",
            "Yanlış.\n",
            "Kelimeyi Tahmin Ediniz  _ I _  _ I _  _ A _ \n",
            "1 Canınız Kaldı\n",
            "Bir Harf Giriniz :b\n",
            "Yanlış.\n",
            "\n",
            "\n",
            "Hiç Hakkınız Kalmadı.\n",
            "Kelimemiz HINDISTAN\n",
            "\n",
            "\n",
            "Oyundan Çıkmak İstiyorsanız\n",
            "'X' Tuşuna Basınız\n",
            "Devam Etmek İçin -> ENTER. \n"
          ],
          "name": "stdout"
        }
      ]
    }
  ]
}