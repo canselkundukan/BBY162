{
  "nbformat": 4,
  "nbformat_minor": 0,
  "metadata": {
    "colab": {
      "name": "basit_katalog.ipynb",
      "provenance": [],
      "collapsed_sections": [],
      "authorship_tag": "ABX9TyMZngz4pI6PstdYLBqYk3rv",
      "include_colab_link": true
    },
    "kernelspec": {
      "name": "python3",
      "display_name": "Python 3"
    }
  },
  "cells": [
    {
      "cell_type": "markdown",
      "metadata": {
        "id": "view-in-github",
        "colab_type": "text"
      },
      "source": [
        "<a href=\"https://colab.research.google.com/github/canselkundukan/bby162-2020/blob/master/basit_katalog.ipynb\" target=\"_parent\"><img src=\"https://colab.research.google.com/assets/colab-badge.svg\" alt=\"Open In Colab\"/></a>"
      ]
    },
    {
      "cell_type": "code",
      "metadata": {
        "id": "rhVSe8muOF9H",
        "colab_type": "code",
        "colab": {
          "base_uri": "https://localhost:8080/",
          "height": 349
        },
        "outputId": "e6ab6a14-424c-41a5-fd98-a4145a4bbc47"
      },
      "source": [
        "from google.colab import drive\n",
        "drive.mount('/gdrive')\n",
        " \n",
        "dosya = \"/gdrive/My Drive/Colab Notebooks/python/kitap_listesi.txt\"\n",
        "\n",
        "f = open(dosya, 'a') \n",
        "yazaradi= input(\"yazar adı giriniz: \" )\n",
        "kitapadi= input(\"kitap adı giriniz: \" )\n",
        "yayinevi= input(\"yayınevini yazınız: \")\n",
        "yayinyili=input(\"yayınyılını yazınız: \")\n",
        "\n",
        "f.write(\"\\n\" +yazaradi + \"|\" )  \n",
        "f.write(kitapadi +\"|\")\n",
        "f.write(yayinevi +\"|\")\n",
        "f.write(yayinyili)\n",
        "\n",
        "f.close()\n",
        "\n",
        "f = open(dosya, \"r\") \n",
        "\n",
        "for line in f.readlines():\n",
        "    print(line)\n",
        "\n",
        "f.close()\n"
      ],
      "execution_count": 1,
      "outputs": [
        {
          "output_type": "stream",
          "text": [
            "Go to this URL in a browser: https://accounts.google.com/o/oauth2/auth?client_id=947318989803-6bn6qk8qdgf4n4g3pfee6491hc0brc4i.apps.googleusercontent.com&redirect_uri=urn%3aietf%3awg%3aoauth%3a2.0%3aoob&response_type=code&scope=email%20https%3a%2f%2fwww.googleapis.com%2fauth%2fdocs.test%20https%3a%2f%2fwww.googleapis.com%2fauth%2fdrive%20https%3a%2f%2fwww.googleapis.com%2fauth%2fdrive.photos.readonly%20https%3a%2f%2fwww.googleapis.com%2fauth%2fpeopleapi.readonly\n",
            "\n",
            "Enter your authorization code:\n",
            "··········\n",
            "Mounted at /gdrive\n",
            "yazar adı giriniz: albert camus\n",
            "kitap adı giriniz: yabancı\n",
            "yayınevini yazınız: can yayınları\n",
            "yayınyılını yazınız: 1996\n",
            "orhan pamuk|kırmızı saçlı kadın|yapı kredi yayınları|2016\n",
            "\n",
            "patrick süskind|koku|can yayınları|2017\n",
            "\n",
            "george orwell|hayvan çiftliği|can yayınları|2001\n",
            "\n",
            "franz kafka |dönüşüm|iş bankası yayınları|2001\n",
            "\n",
            "albert camus|yabancı|can yayınları|1996\n"
          ],
          "name": "stdout"
        }
      ]
    }
  ]
}